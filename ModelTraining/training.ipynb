{
 "cells": [
  {
   "cell_type": "markdown",
   "id": "e9ca6e86",
   "metadata": {},
   "source": [
    "# KNN Classification - Standard Model"
   ]
  },
  {
   "cell_type": "code",
   "execution_count": 2,
   "id": "d44512f1",
   "metadata": {},
   "outputs": [],
   "source": [
    "import pandas as pd"
   ]
  },
  {
   "cell_type": "code",
   "execution_count": null,
   "id": "e6a20de9",
   "metadata": {},
   "outputs": [],
   "source": [
    "# Import the dataset\n",
    "df = pd.read_csv('udc_dataset_no_duplicate_titles.csv')"
   ]
  },
  {
   "cell_type": "code",
   "execution_count": null,
   "id": "f72404ea",
   "metadata": {},
   "outputs": [
    {
     "data": {
      "text/html": [
       "<div>\n",
       "<style scoped>\n",
       "    .dataframe tbody tr th:only-of-type {\n",
       "        vertical-align: middle;\n",
       "    }\n",
       "\n",
       "    .dataframe tbody tr th {\n",
       "        vertical-align: top;\n",
       "    }\n",
       "\n",
       "    .dataframe thead th {\n",
       "        text-align: right;\n",
       "    }\n",
       "</style>\n",
       "<table border=\"1\" class=\"dataframe\">\n",
       "  <thead>\n",
       "    <tr style=\"text-align: right;\">\n",
       "      <th></th>\n",
       "      <th>uid</th>\n",
       "      <th>text</th>\n",
       "      <th>udc_1</th>\n",
       "      <th>udc_2</th>\n",
       "      <th>udc_3</th>\n",
       "      <th>udc_4</th>\n",
       "      <th>udc_5</th>\n",
       "      <th>type</th>\n",
       "      <th>generated_title</th>\n",
       "      <th>desc_custom_id</th>\n",
       "      <th>generated_description</th>\n",
       "      <th>labels</th>\n",
       "    </tr>\n",
       "  </thead>\n",
       "  <tbody>\n",
       "    <tr>\n",
       "      <th>0</th>\n",
       "      <td>0</td>\n",
       "      <td>A Beida</td>\n",
       "      <td>1¢(533.22)</td>\n",
       "      <td>NaN</td>\n",
       "      <td>NaN</td>\n",
       "      <td>NaN</td>\n",
       "      <td>NaN</td>\n",
       "      <td>book</td>\n",
       "      <td>Exploring Contemporary Philosophies at Beida</td>\n",
       "      <td>0-request-book-0</td>\n",
       "      <td>\"Exploring Contemporary Philosophies at Beida\"...</td>\n",
       "      <td>[1¢(53322)]</td>\n",
       "    </tr>\n",
       "    <tr>\n",
       "      <th>1</th>\n",
       "      <td>0</td>\n",
       "      <td>A Beida</td>\n",
       "      <td>1¢(533.22)</td>\n",
       "      <td>NaN</td>\n",
       "      <td>NaN</td>\n",
       "      <td>NaN</td>\n",
       "      <td>NaN</td>\n",
       "      <td>book</td>\n",
       "      <td>Exploring Chinese Culture in Modern Times</td>\n",
       "      <td>0-request-book-1</td>\n",
       "      <td>\"Exploring Chinese Culture in Modern Times\" of...</td>\n",
       "      <td>[1¢(53322)]</td>\n",
       "    </tr>\n",
       "    <tr>\n",
       "      <th>2</th>\n",
       "      <td>0</td>\n",
       "      <td>A Beida</td>\n",
       "      <td>1¢(533.22)</td>\n",
       "      <td>NaN</td>\n",
       "      <td>NaN</td>\n",
       "      <td>NaN</td>\n",
       "      <td>NaN</td>\n",
       "      <td>book</td>\n",
       "      <td>Whispers of the Old Library</td>\n",
       "      <td>0-request-book-2</td>\n",
       "      <td>In \"Whispers of the Old Library,\" A Beida weav...</td>\n",
       "      <td>[1¢(53322)]</td>\n",
       "    </tr>\n",
       "    <tr>\n",
       "      <th>3</th>\n",
       "      <td>0</td>\n",
       "      <td>A Beida</td>\n",
       "      <td>1¢(533.22)</td>\n",
       "      <td>NaN</td>\n",
       "      <td>NaN</td>\n",
       "      <td>NaN</td>\n",
       "      <td>NaN</td>\n",
       "      <td>book</td>\n",
       "      <td>Whispers of the Eastern Lotus</td>\n",
       "      <td>0-request-book-3</td>\n",
       "      <td>\"Whispers of the Eastern Lotus\" is a captivati...</td>\n",
       "      <td>[1¢(53322)]</td>\n",
       "    </tr>\n",
       "    <tr>\n",
       "      <th>4</th>\n",
       "      <td>0</td>\n",
       "      <td>A Beida</td>\n",
       "      <td>1¢(533.22)</td>\n",
       "      <td>NaN</td>\n",
       "      <td>NaN</td>\n",
       "      <td>NaN</td>\n",
       "      <td>NaN</td>\n",
       "      <td>article</td>\n",
       "      <td>Investigating the Differential Genetic Express...</td>\n",
       "      <td>0-request-sci-0</td>\n",
       "      <td>This article explores the variations in geneti...</td>\n",
       "      <td>[1¢(53322)]</td>\n",
       "    </tr>\n",
       "  </tbody>\n",
       "</table>\n",
       "</div>"
      ],
      "text/plain": [
       "   uid     text       udc_1  udc_2  udc_3  udc_4   udc_5     type  \\\n",
       "0    0  A Beida  1¢(533.22)    NaN    NaN    NaN     NaN     book   \n",
       "1    0  A Beida  1¢(533.22)    NaN    NaN    NaN     NaN     book   \n",
       "2    0  A Beida  1¢(533.22)    NaN    NaN    NaN     NaN     book   \n",
       "3    0  A Beida  1¢(533.22)    NaN    NaN    NaN     NaN     book   \n",
       "4    0  A Beida  1¢(533.22)    NaN    NaN    NaN     NaN  article   \n",
       "\n",
       "                                     generated_title    desc_custom_id  \\\n",
       "0       Exploring Contemporary Philosophies at Beida  0-request-book-0   \n",
       "1          Exploring Chinese Culture in Modern Times  0-request-book-1   \n",
       "2                        Whispers of the Old Library  0-request-book-2   \n",
       "3                      Whispers of the Eastern Lotus  0-request-book-3   \n",
       "4  Investigating the Differential Genetic Express...   0-request-sci-0   \n",
       "\n",
       "                               generated_description       labels  \n",
       "0  \"Exploring Contemporary Philosophies at Beida\"...  [1¢(53322)]  \n",
       "1  \"Exploring Chinese Culture in Modern Times\" of...  [1¢(53322)]  \n",
       "2  In \"Whispers of the Old Library,\" A Beida weav...  [1¢(53322)]  \n",
       "3  \"Whispers of the Eastern Lotus\" is a captivati...  [1¢(53322)]  \n",
       "4  This article explores the variations in geneti...  [1¢(53322)]  "
      ]
     },
     "execution_count": 5,
     "metadata": {},
     "output_type": "execute_result"
    }
   ],
   "source": [
    "# Create a new DataFrame with labels\n",
    "df_label_list = df.copy()\n",
    "df_label_list['labels'] = df_label_list[[' udc_1', ' udc_2', ' udc_3', ' udc_4', ' udc_5']].values.tolist()\n",
    "\n",
    "# Strips and removes . separators\n",
    "df_label_list['labels'] = df_label_list['labels'].apply(lambda x: [str(i).strip().replace('.','') for i in x if pd.notnull(i)])\n",
    "df_label_list.head() "
   ]
  },
  {
   "cell_type": "markdown",
   "id": "66144d9a",
   "metadata": {},
   "source": [
    "## Preprocessing"
   ]
  },
  {
   "cell_type": "code",
   "execution_count": 6,
   "id": "8f4b3725",
   "metadata": {},
   "outputs": [],
   "source": [
    "from sklearn.preprocessing import MultiLabelBinarizer"
   ]
  },
  {
   "cell_type": "code",
   "execution_count": 7,
   "id": "afdc7748",
   "metadata": {},
   "outputs": [
    {
     "data": {
      "text/plain": [
       "array([[0, 0, 0, ..., 0, 0, 0],\n",
       "       [0, 0, 0, ..., 0, 0, 0],\n",
       "       [0, 0, 0, ..., 0, 0, 0],\n",
       "       ...,\n",
       "       [0, 0, 0, ..., 0, 0, 0],\n",
       "       [0, 0, 0, ..., 0, 0, 0],\n",
       "       [0, 0, 0, ..., 0, 0, 0]])"
      ]
     },
     "execution_count": 7,
     "metadata": {},
     "output_type": "execute_result"
    }
   ],
   "source": [
    "mlb = MultiLabelBinarizer()\n",
    "label_matrix = mlb.fit_transform(df_label_list['labels'])\n",
    "label_matrix"
   ]
  },
  {
   "cell_type": "code",
   "execution_count": null,
   "id": "fa5bbfc7",
   "metadata": {},
   "outputs": [
    {
     "data": {
      "text/html": [
       "<div>\n",
       "<style scoped>\n",
       "    .dataframe tbody tr th:only-of-type {\n",
       "        vertical-align: middle;\n",
       "    }\n",
       "\n",
       "    .dataframe tbody tr th {\n",
       "        vertical-align: top;\n",
       "    }\n",
       "\n",
       "    .dataframe thead th {\n",
       "        text-align: right;\n",
       "    }\n",
       "</style>\n",
       "<table border=\"1\" class=\"dataframe\">\n",
       "  <thead>\n",
       "    <tr style=\"text-align: right;\">\n",
       "      <th></th>\n",
       "      <th>uid</th>\n",
       "      <th>text</th>\n",
       "      <th>udc_1</th>\n",
       "      <th>udc_2</th>\n",
       "      <th>udc_3</th>\n",
       "      <th>udc_4</th>\n",
       "      <th>udc_5</th>\n",
       "      <th>type</th>\n",
       "      <th>generated_title</th>\n",
       "      <th>desc_custom_id</th>\n",
       "      <th>generated_description</th>\n",
       "      <th>labels</th>\n",
       "      <th>text_desc</th>\n",
       "    </tr>\n",
       "  </thead>\n",
       "  <tbody>\n",
       "    <tr>\n",
       "      <th>0</th>\n",
       "      <td>0</td>\n",
       "      <td>A Beida</td>\n",
       "      <td>1¢(533.22)</td>\n",
       "      <td>NaN</td>\n",
       "      <td>NaN</td>\n",
       "      <td>NaN</td>\n",
       "      <td>NaN</td>\n",
       "      <td>book</td>\n",
       "      <td>Exploring Contemporary Philosophies at Beida</td>\n",
       "      <td>0-request-book-0</td>\n",
       "      <td>\"Exploring Contemporary Philosophies at Beida\"...</td>\n",
       "      <td>[1¢(53322)]</td>\n",
       "      <td>Exploring Contemporary Philosophies at Beida \"...</td>\n",
       "    </tr>\n",
       "    <tr>\n",
       "      <th>1</th>\n",
       "      <td>0</td>\n",
       "      <td>A Beida</td>\n",
       "      <td>1¢(533.22)</td>\n",
       "      <td>NaN</td>\n",
       "      <td>NaN</td>\n",
       "      <td>NaN</td>\n",
       "      <td>NaN</td>\n",
       "      <td>book</td>\n",
       "      <td>Exploring Chinese Culture in Modern Times</td>\n",
       "      <td>0-request-book-1</td>\n",
       "      <td>\"Exploring Chinese Culture in Modern Times\" of...</td>\n",
       "      <td>[1¢(53322)]</td>\n",
       "      <td>Exploring Chinese Culture in Modern Times \"Exp...</td>\n",
       "    </tr>\n",
       "    <tr>\n",
       "      <th>2</th>\n",
       "      <td>0</td>\n",
       "      <td>A Beida</td>\n",
       "      <td>1¢(533.22)</td>\n",
       "      <td>NaN</td>\n",
       "      <td>NaN</td>\n",
       "      <td>NaN</td>\n",
       "      <td>NaN</td>\n",
       "      <td>book</td>\n",
       "      <td>Whispers of the Old Library</td>\n",
       "      <td>0-request-book-2</td>\n",
       "      <td>In \"Whispers of the Old Library,\" A Beida weav...</td>\n",
       "      <td>[1¢(53322)]</td>\n",
       "      <td>Whispers of the Old Library In \"Whispers of th...</td>\n",
       "    </tr>\n",
       "    <tr>\n",
       "      <th>3</th>\n",
       "      <td>0</td>\n",
       "      <td>A Beida</td>\n",
       "      <td>1¢(533.22)</td>\n",
       "      <td>NaN</td>\n",
       "      <td>NaN</td>\n",
       "      <td>NaN</td>\n",
       "      <td>NaN</td>\n",
       "      <td>book</td>\n",
       "      <td>Whispers of the Eastern Lotus</td>\n",
       "      <td>0-request-book-3</td>\n",
       "      <td>\"Whispers of the Eastern Lotus\" is a captivati...</td>\n",
       "      <td>[1¢(53322)]</td>\n",
       "      <td>Whispers of the Eastern Lotus \"Whispers of the...</td>\n",
       "    </tr>\n",
       "    <tr>\n",
       "      <th>4</th>\n",
       "      <td>0</td>\n",
       "      <td>A Beida</td>\n",
       "      <td>1¢(533.22)</td>\n",
       "      <td>NaN</td>\n",
       "      <td>NaN</td>\n",
       "      <td>NaN</td>\n",
       "      <td>NaN</td>\n",
       "      <td>article</td>\n",
       "      <td>Investigating the Differential Genetic Express...</td>\n",
       "      <td>0-request-sci-0</td>\n",
       "      <td>This article explores the variations in geneti...</td>\n",
       "      <td>[1¢(53322)]</td>\n",
       "      <td>Investigating the Differential Genetic Express...</td>\n",
       "    </tr>\n",
       "  </tbody>\n",
       "</table>\n",
       "</div>"
      ],
      "text/plain": [
       "   uid     text       udc_1  udc_2  udc_3  udc_4   udc_5     type  \\\n",
       "0    0  A Beida  1¢(533.22)    NaN    NaN    NaN     NaN     book   \n",
       "1    0  A Beida  1¢(533.22)    NaN    NaN    NaN     NaN     book   \n",
       "2    0  A Beida  1¢(533.22)    NaN    NaN    NaN     NaN     book   \n",
       "3    0  A Beida  1¢(533.22)    NaN    NaN    NaN     NaN     book   \n",
       "4    0  A Beida  1¢(533.22)    NaN    NaN    NaN     NaN  article   \n",
       "\n",
       "                                     generated_title    desc_custom_id  \\\n",
       "0       Exploring Contemporary Philosophies at Beida  0-request-book-0   \n",
       "1          Exploring Chinese Culture in Modern Times  0-request-book-1   \n",
       "2                        Whispers of the Old Library  0-request-book-2   \n",
       "3                      Whispers of the Eastern Lotus  0-request-book-3   \n",
       "4  Investigating the Differential Genetic Express...   0-request-sci-0   \n",
       "\n",
       "                               generated_description       labels  \\\n",
       "0  \"Exploring Contemporary Philosophies at Beida\"...  [1¢(53322)]   \n",
       "1  \"Exploring Chinese Culture in Modern Times\" of...  [1¢(53322)]   \n",
       "2  In \"Whispers of the Old Library,\" A Beida weav...  [1¢(53322)]   \n",
       "3  \"Whispers of the Eastern Lotus\" is a captivati...  [1¢(53322)]   \n",
       "4  This article explores the variations in geneti...  [1¢(53322)]   \n",
       "\n",
       "                                           text_desc  \n",
       "0  Exploring Contemporary Philosophies at Beida \"...  \n",
       "1  Exploring Chinese Culture in Modern Times \"Exp...  \n",
       "2  Whispers of the Old Library In \"Whispers of th...  \n",
       "3  Whispers of the Eastern Lotus \"Whispers of the...  \n",
       "4  Investigating the Differential Genetic Express...  "
      ]
     },
     "execution_count": 8,
     "metadata": {},
     "output_type": "execute_result"
    }
   ],
   "source": [
    "# Create a new title and description combined\n",
    "df_text_desc_combined = df_label_list.copy()\n",
    "df_text_desc_combined['text_desc'] = df_text_desc_combined['generated_title'].fillna('') + ' ' + df_text_desc_combined['generated_description'].fillna('')\n",
    "df_text_desc_combined.head()"
   ]
  },
  {
   "cell_type": "code",
   "execution_count": null,
   "id": "e7a28ebf",
   "metadata": {},
   "outputs": [
    {
     "data": {
      "text/html": [
       "<div>\n",
       "<style scoped>\n",
       "    .dataframe tbody tr th:only-of-type {\n",
       "        vertical-align: middle;\n",
       "    }\n",
       "\n",
       "    .dataframe tbody tr th {\n",
       "        vertical-align: top;\n",
       "    }\n",
       "\n",
       "    .dataframe thead th {\n",
       "        text-align: right;\n",
       "    }\n",
       "</style>\n",
       "<table border=\"1\" class=\"dataframe\">\n",
       "  <thead>\n",
       "    <tr style=\"text-align: right;\">\n",
       "      <th></th>\n",
       "      <th>text_desc</th>\n",
       "      <th>labels</th>\n",
       "    </tr>\n",
       "  </thead>\n",
       "  <tbody>\n",
       "    <tr>\n",
       "      <th>0</th>\n",
       "      <td>Exploring Contemporary Philosophies at Beida \"...</td>\n",
       "      <td>[1¢(53322)]</td>\n",
       "    </tr>\n",
       "    <tr>\n",
       "      <th>1</th>\n",
       "      <td>Exploring Chinese Culture in Modern Times \"Exp...</td>\n",
       "      <td>[1¢(53322)]</td>\n",
       "    </tr>\n",
       "    <tr>\n",
       "      <th>2</th>\n",
       "      <td>Whispers of the Old Library In \"Whispers of th...</td>\n",
       "      <td>[1¢(53322)]</td>\n",
       "    </tr>\n",
       "    <tr>\n",
       "      <th>3</th>\n",
       "      <td>Whispers of the Eastern Lotus \"Whispers of the...</td>\n",
       "      <td>[1¢(53322)]</td>\n",
       "    </tr>\n",
       "    <tr>\n",
       "      <th>4</th>\n",
       "      <td>Investigating the Differential Genetic Express...</td>\n",
       "      <td>[1¢(53322)]</td>\n",
       "    </tr>\n",
       "  </tbody>\n",
       "</table>\n",
       "</div>"
      ],
      "text/plain": [
       "                                           text_desc       labels\n",
       "0  Exploring Contemporary Philosophies at Beida \"...  [1¢(53322)]\n",
       "1  Exploring Chinese Culture in Modern Times \"Exp...  [1¢(53322)]\n",
       "2  Whispers of the Old Library In \"Whispers of th...  [1¢(53322)]\n",
       "3  Whispers of the Eastern Lotus \"Whispers of the...  [1¢(53322)]\n",
       "4  Investigating the Differential Genetic Express...  [1¢(53322)]"
      ]
     },
     "execution_count": 9,
     "metadata": {},
     "output_type": "execute_result"
    }
   ],
   "source": [
    "# Prune the DataFrame to keep only relevant columns\n",
    "df_pruned = df_text_desc_combined[['text_desc', 'labels']].copy()\n",
    "df_pruned.head()"
   ]
  },
  {
   "cell_type": "markdown",
   "id": "3a204351",
   "metadata": {},
   "source": [
    "## Training"
   ]
  },
  {
   "cell_type": "code",
   "execution_count": 10,
   "id": "afef4289",
   "metadata": {},
   "outputs": [
    {
     "name": "stderr",
     "output_type": "stream",
     "text": [
      "c:\\Users\\wrimp\\Documents\\UDC2\\.conda\\lib\\site-packages\\tqdm\\auto.py:21: TqdmWarning: IProgress not found. Please update jupyter and ipywidgets. See https://ipywidgets.readthedocs.io/en/stable/user_install.html\n",
      "  from .autonotebook import tqdm as notebook_tqdm\n"
     ]
    }
   ],
   "source": [
    "from transformers import AutoTokenizer\n",
    "\n",
    "tokenizer = AutoTokenizer.from_pretrained(\"bert-base-uncased\")\n",
    "\n",
    "encodings = tokenizer(df_pruned['text_desc'].tolist(), \n",
    "                      truncation=True, \n",
    "                      padding=True)"
   ]
  },
  {
   "cell_type": "code",
   "execution_count": 11,
   "id": "33086be7",
   "metadata": {},
   "outputs": [],
   "source": [
    "import torch"
   ]
  },
  {
   "cell_type": "code",
   "execution_count": 12,
   "id": "99dcce33",
   "metadata": {},
   "outputs": [
    {
     "name": "stdout",
     "output_type": "stream",
     "text": [
      "Using device: cuda\n",
      "GPU Name: NVIDIA GeForce RTX 3050 6GB Laptop GPU\n",
      "GPU Memory: 6.0 GB\n",
      "CUDA Version: 12.8\n"
     ]
    }
   ],
   "source": [
    "# Check GPU availability and configure device\n",
    "device = torch.device('cuda' if torch.cuda.is_available() else 'cpu')\n",
    "print(f\"Using device: {device}\")\n",
    "\n",
    "if torch.cuda.is_available():\n",
    "    print(f\"GPU Name: {torch.cuda.get_device_name(0)}\")\n",
    "    print(f\"GPU Memory: {torch.cuda.get_device_properties(0).total_memory / 1024**3:.1f} GB\")\n",
    "    print(f\"CUDA Version: {torch.version.cuda}\")\n",
    "else:\n",
    "    print(\"CUDA is not available. Training will use CPU.\")"
   ]
  },
  {
   "cell_type": "code",
   "execution_count": null,
   "id": "5774ae72",
   "metadata": {},
   "outputs": [
    {
     "name": "stdout",
     "output_type": "stream",
     "text": [
      "Dataset created with 37373 samples\n"
     ]
    }
   ],
   "source": [
    "class BookDataset(torch.utils.data.Dataset):\n",
    "    \"\"\"Custom Dataset for loading book data with encodings and labels.\"\"\"\n",
    "    def __init__(self, encodings, labels):\n",
    "        self.encodings = encodings\n",
    "        self.labels = labels\n",
    "    \n",
    "    def __getitem__(self, idx):\n",
    "        \"\"\"Get item by index.\"\"\"\n",
    "        item = {key: torch.tensor(val[idx]) for key, val in self.encodings.items()}\n",
    "        # Ensure float32 for BCEWithLogitsLoss (fixes the RuntimeError you encountered)\n",
    "        item['labels'] = torch.tensor(self.labels[idx], dtype=torch.float32)\n",
    "        return item\n",
    "\n",
    "    def __len__(self):\n",
    "        return len(self.labels)\n",
    "\n",
    "dataset = BookDataset(encodings, label_matrix)\n",
    "print(f\"Dataset created with {len(dataset)} samples\")"
   ]
  },
  {
   "cell_type": "code",
   "execution_count": 14,
   "id": "798e4e21",
   "metadata": {},
   "outputs": [
    {
     "name": "stderr",
     "output_type": "stream",
     "text": [
      "Some weights of BertForSequenceClassification were not initialized from the model checkpoint at bert-base-uncased and are newly initialized: ['classifier.bias', 'classifier.weight']\n",
      "You should probably TRAIN this model on a down-stream task to be able to use it for predictions and inference.\n"
     ]
    },
    {
     "name": "stdout",
     "output_type": "stream",
     "text": [
      "Model moved to: cuda:0\n"
     ]
    }
   ],
   "source": [
    "from transformers import AutoModelForSequenceClassification\n",
    "model = AutoModelForSequenceClassification.from_pretrained(\"bert-base-uncased\",\n",
    "                                                            num_labels=label_matrix.shape[1],\n",
    "                                                            problem_type=\"multi_label_classification\")\n",
    "\n",
    "# Move model to GPU if available\n",
    "model = model.to(device)\n",
    "print(f\"Model moved to: {next(model.parameters()).device}\")\n"
   ]
  },
  {
   "cell_type": "code",
   "execution_count": 15,
   "id": "11b94d05",
   "metadata": {},
   "outputs": [],
   "source": [
    "from sklearn.model_selection import train_test_split\n",
    "\n"
   ]
  },
  {
   "cell_type": "code",
   "execution_count": null,
   "id": "f18d57aa",
   "metadata": {},
   "outputs": [
    {
     "name": "stdout",
     "output_type": "stream",
     "text": [
      "Total samples: 37373\n",
      "Train samples: 23918\n",
      "Validation samples: 5980\n",
      "Test samples: 7475\n"
     ]
    }
   ],
   "source": [
    "# I should've used stratified sampling, but there was an error I could not fix.\n",
    "from sklearn.model_selection import train_test_split\n",
    "import numpy as np\n",
    "\n",
    "# Get the total number of samples\n",
    "total_samples = len(dataset)\n",
    "indices = np.arange(total_samples)\n",
    "\n",
    "# First split: 80% train+val, 20% test\n",
    "trainval_idx, test_idx = train_test_split(indices, test_size=0.2, random_state=42)\n",
    "\n",
    "# Second split: from the 80%, take 80% for train and 20% for validation\n",
    "train_idx, val_idx = train_test_split(trainval_idx, test_size=0.2, random_state=42)\n",
    "\n",
    "print(f\"Total samples: {total_samples}\")\n",
    "print(f\"Train samples: {len(train_idx)}\")\n",
    "print(f\"Validation samples: {len(val_idx)}\")\n",
    "print(f\"Test samples: {len(test_idx)}\")\n",
    "\n"
   ]
  },
  {
   "cell_type": "code",
   "execution_count": 17,
   "id": "5c78eb85",
   "metadata": {},
   "outputs": [
    {
     "name": "stdout",
     "output_type": "stream",
     "text": [
      "Train dataset size: 23918\n",
      "Validation dataset size: 5980\n",
      "Test dataset size: 7475\n"
     ]
    }
   ],
   "source": [
    "# Create subset datasets\n",
    "from torch.utils.data import Subset\n",
    "\n",
    "train_dataset = Subset(dataset, train_idx)\n",
    "val_dataset = Subset(dataset, val_idx)\n",
    "test_dataset = Subset(dataset, test_idx)\n",
    "\n",
    "print(f\"Train dataset size: {len(train_dataset)}\")\n",
    "print(f\"Validation dataset size: {len(val_dataset)}\")\n",
    "print(f\"Test dataset size: {len(test_dataset)}\")"
   ]
  },
  {
   "cell_type": "code",
   "execution_count": 18,
   "id": "40ae1039",
   "metadata": {},
   "outputs": [],
   "source": [
    "from transformers import Trainer, TrainingArguments"
   ]
  },
  {
   "cell_type": "code",
   "execution_count": 19,
   "id": "702c5275",
   "metadata": {},
   "outputs": [
    {
     "name": "stdout",
     "output_type": "stream",
     "text": [
      "Initial GPU memory status:\n",
      "GPU Memory Allocated: 0.43 GB\n",
      "GPU Memory Cached: 0.46 GB\n"
     ]
    }
   ],
   "source": [
    "# GPU memory monitoring and optimization functions\n",
    "def print_gpu_memory():\n",
    "    if torch.cuda.is_available():\n",
    "        print(f\"GPU Memory Allocated: {torch.cuda.memory_allocated() / 1024**3:.2f} GB\")\n",
    "        print(f\"GPU Memory Cached: {torch.cuda.memory_reserved() / 1024**3:.2f} GB\")\n",
    "    else:\n",
    "        print(\"CUDA not available\")\n",
    "\n",
    "def clear_gpu_cache():\n",
    "    if torch.cuda.is_available():\n",
    "        torch.cuda.empty_cache()\n",
    "        print(\"GPU cache cleared\")\n",
    "\n",
    "# Print initial memory usage\n",
    "print(\"Initial GPU memory status:\")\n",
    "print_gpu_memory()"
   ]
  },
  {
   "cell_type": "code",
   "execution_count": 20,
   "id": "a9906ead",
   "metadata": {},
   "outputs": [],
   "source": [
    "training_args = TrainingArguments(\n",
    "    output_dir='./results',\n",
    "    eval_strategy=\"epoch\",\n",
    "    save_strategy=\"epoch\",\n",
    "    num_train_epochs=5,\n",
    "    per_device_train_batch_size=8,\n",
    "    per_device_eval_batch_size=8,\n",
    "    logging_dir='./logs',\n",
    "    logging_steps=100,\n",
    "    load_best_model_at_end=True,\n",
    "    metric_for_best_model=\"f1\"\n",
    ")"
   ]
  },
  {
   "cell_type": "code",
   "execution_count": 22,
   "id": "3686e25d",
   "metadata": {},
   "outputs": [],
   "source": [
    "from sklearn.metrics import f1_score, precision_score, recall_score\n",
    "import numpy as np"
   ]
  },
  {
   "cell_type": "code",
   "execution_count": 23,
   "id": "eb23ec66",
   "metadata": {},
   "outputs": [],
   "source": [
    "def compute_metrics(pred):\n",
    "    logits, labels = pred\n",
    "    probs = torch.sigmoid(torch.tensor(logits)).numpy()\n",
    "    preds = (probs > 0.5).astype(int)\n",
    "    f1 = f1_score(labels, preds, average='micro')\n",
    "    precision = precision_score(labels, preds, average='micro')\n",
    "    recall = recall_score(labels, preds, average='micro')\n",
    "    return {\n",
    "        'f1': f1,\n",
    "        'precision': precision,\n",
    "        'recall': recall\n",
    "    }"
   ]
  },
  {
   "cell_type": "code",
   "execution_count": 24,
   "id": "e283fcca",
   "metadata": {},
   "outputs": [],
   "source": [
    "trainer = Trainer(model=model,\n",
    "                  args=training_args,\n",
    "                  train_dataset=train_dataset,\n",
    "                    eval_dataset=val_dataset,\n",
    "                    compute_metrics=compute_metrics)"
   ]
  },
  {
   "cell_type": "code",
   "execution_count": 25,
   "id": "479d5b39",
   "metadata": {},
   "outputs": [
    {
     "data": {
      "text/html": [
       "\n",
       "    <div>\n",
       "      \n",
       "      <progress value='14950' max='14950' style='width:300px; height:20px; vertical-align: middle;'></progress>\n",
       "      [14950/14950 3:32:32, Epoch 5/5]\n",
       "    </div>\n",
       "    <table border=\"1\" class=\"dataframe\">\n",
       "  <thead>\n",
       " <tr style=\"text-align: left;\">\n",
       "      <th>Epoch</th>\n",
       "      <th>Training Loss</th>\n",
       "      <th>Validation Loss</th>\n",
       "      <th>F1</th>\n",
       "      <th>Precision</th>\n",
       "      <th>Recall</th>\n",
       "    </tr>\n",
       "  </thead>\n",
       "  <tbody>\n",
       "    <tr>\n",
       "      <td>1</td>\n",
       "      <td>0.001900</td>\n",
       "      <td>0.001837</td>\n",
       "      <td>0.000000</td>\n",
       "      <td>0.000000</td>\n",
       "      <td>0.000000</td>\n",
       "    </tr>\n",
       "    <tr>\n",
       "      <td>2</td>\n",
       "      <td>0.001700</td>\n",
       "      <td>0.001744</td>\n",
       "      <td>0.000000</td>\n",
       "      <td>0.000000</td>\n",
       "      <td>0.000000</td>\n",
       "    </tr>\n",
       "    <tr>\n",
       "      <td>3</td>\n",
       "      <td>0.001700</td>\n",
       "      <td>0.001755</td>\n",
       "      <td>0.000000</td>\n",
       "      <td>0.000000</td>\n",
       "      <td>0.000000</td>\n",
       "    </tr>\n",
       "    <tr>\n",
       "      <td>4</td>\n",
       "      <td>0.001700</td>\n",
       "      <td>0.001758</td>\n",
       "      <td>0.000000</td>\n",
       "      <td>0.000000</td>\n",
       "      <td>0.000000</td>\n",
       "    </tr>\n",
       "    <tr>\n",
       "      <td>5</td>\n",
       "      <td>0.001700</td>\n",
       "      <td>0.001760</td>\n",
       "      <td>0.000000</td>\n",
       "      <td>0.000000</td>\n",
       "      <td>0.000000</td>\n",
       "    </tr>\n",
       "  </tbody>\n",
       "</table><p>"
      ],
      "text/plain": [
       "<IPython.core.display.HTML object>"
      ]
     },
     "metadata": {},
     "output_type": "display_data"
    },
    {
     "name": "stderr",
     "output_type": "stream",
     "text": [
      "c:\\Users\\wrimp\\Documents\\UDC2\\.conda\\lib\\site-packages\\sklearn\\metrics\\_classification.py:1565: UndefinedMetricWarning: Precision is ill-defined and being set to 0.0 due to no predicted samples. Use `zero_division` parameter to control this behavior.\n",
      "  _warn_prf(average, modifier, f\"{metric.capitalize()} is\", len(result))\n",
      "c:\\Users\\wrimp\\Documents\\UDC2\\.conda\\lib\\site-packages\\sklearn\\metrics\\_classification.py:1565: UndefinedMetricWarning: Precision is ill-defined and being set to 0.0 due to no predicted samples. Use `zero_division` parameter to control this behavior.\n",
      "  _warn_prf(average, modifier, f\"{metric.capitalize()} is\", len(result))\n",
      "c:\\Users\\wrimp\\Documents\\UDC2\\.conda\\lib\\site-packages\\sklearn\\metrics\\_classification.py:1565: UndefinedMetricWarning: Precision is ill-defined and being set to 0.0 due to no predicted samples. Use `zero_division` parameter to control this behavior.\n",
      "  _warn_prf(average, modifier, f\"{metric.capitalize()} is\", len(result))\n",
      "c:\\Users\\wrimp\\Documents\\UDC2\\.conda\\lib\\site-packages\\sklearn\\metrics\\_classification.py:1565: UndefinedMetricWarning: Precision is ill-defined and being set to 0.0 due to no predicted samples. Use `zero_division` parameter to control this behavior.\n",
      "  _warn_prf(average, modifier, f\"{metric.capitalize()} is\", len(result))\n",
      "c:\\Users\\wrimp\\Documents\\UDC2\\.conda\\lib\\site-packages\\sklearn\\metrics\\_classification.py:1565: UndefinedMetricWarning: Precision is ill-defined and being set to 0.0 due to no predicted samples. Use `zero_division` parameter to control this behavior.\n",
      "  _warn_prf(average, modifier, f\"{metric.capitalize()} is\", len(result))\n",
      "c:\\Users\\wrimp\\Documents\\UDC2\\.conda\\lib\\site-packages\\sklearn\\metrics\\_classification.py:1565: UndefinedMetricWarning: Precision is ill-defined and being set to 0.0 due to no predicted samples. Use `zero_division` parameter to control this behavior.\n",
      "  _warn_prf(average, modifier, f\"{metric.capitalize()} is\", len(result))\n",
      "c:\\Users\\wrimp\\Documents\\UDC2\\.conda\\lib\\site-packages\\sklearn\\metrics\\_classification.py:1565: UndefinedMetricWarning: Precision is ill-defined and being set to 0.0 due to no predicted samples. Use `zero_division` parameter to control this behavior.\n",
      "  _warn_prf(average, modifier, f\"{metric.capitalize()} is\", len(result))\n",
      "c:\\Users\\wrimp\\Documents\\UDC2\\.conda\\lib\\site-packages\\sklearn\\metrics\\_classification.py:1565: UndefinedMetricWarning: Precision is ill-defined and being set to 0.0 due to no predicted samples. Use `zero_division` parameter to control this behavior.\n",
      "  _warn_prf(average, modifier, f\"{metric.capitalize()} is\", len(result))\n",
      "c:\\Users\\wrimp\\Documents\\UDC2\\.conda\\lib\\site-packages\\sklearn\\metrics\\_classification.py:1565: UndefinedMetricWarning: Precision is ill-defined and being set to 0.0 due to no predicted samples. Use `zero_division` parameter to control this behavior.\n",
      "  _warn_prf(average, modifier, f\"{metric.capitalize()} is\", len(result))\n"
     ]
    },
    {
     "data": {
      "text/plain": [
       "TrainOutput(global_step=14950, training_loss=0.004362873588517358, metrics={'train_runtime': 12755.7858, 'train_samples_per_second': 9.375, 'train_steps_per_second': 1.172, 'total_flos': 2.805414237002328e+16, 'train_loss': 0.004362873588517358, 'epoch': 5.0})"
      ]
     },
     "execution_count": 25,
     "metadata": {},
     "output_type": "execute_result"
    }
   ],
   "source": [
    "trainer.train()"
   ]
  },
  {
   "cell_type": "markdown",
   "id": "95740779",
   "metadata": {},
   "source": [
    "## Saving"
   ]
  },
  {
   "cell_type": "code",
   "execution_count": 26,
   "id": "d45587e2",
   "metadata": {},
   "outputs": [
    {
     "data": {
      "text/plain": [
       "('./classification_unpruned/udc_model_1\\\\tokenizer_config.json',\n",
       " './classification_unpruned/udc_model_1\\\\special_tokens_map.json',\n",
       " './classification_unpruned/udc_model_1\\\\vocab.txt',\n",
       " './classification_unpruned/udc_model_1\\\\added_tokens.json',\n",
       " './classification_unpruned/udc_model_1\\\\tokenizer.json')"
      ]
     },
     "execution_count": 26,
     "metadata": {},
     "output_type": "execute_result"
    }
   ],
   "source": [
    "model.save_pretrained('./classification_unpruned/udc_model_1')\n",
    "tokenizer.save_pretrained('./classification_unpruned/udc_model_1')\n"
   ]
  },
  {
   "cell_type": "code",
   "execution_count": null,
   "id": "53af568b",
   "metadata": {},
   "outputs": [],
   "source": []
  }
 ],
 "metadata": {
  "kernelspec": {
   "display_name": "Python 3",
   "language": "python",
   "name": "python3"
  },
  "language_info": {
   "codemirror_mode": {
    "name": "ipython",
    "version": 3
   },
   "file_extension": ".py",
   "mimetype": "text/x-python",
   "name": "python",
   "nbconvert_exporter": "python",
   "pygments_lexer": "ipython3",
   "version": "3.9.23"
  }
 },
 "nbformat": 4,
 "nbformat_minor": 5
}
