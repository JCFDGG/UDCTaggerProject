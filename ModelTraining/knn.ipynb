{
 "cells": [
  {
   "cell_type": "markdown",
   "id": "29e7304c",
   "metadata": {},
   "source": [
    "# Data Preparation"
   ]
  },
  {
   "cell_type": "code",
   "execution_count": null,
   "id": "fc979fd2",
   "metadata": {},
   "outputs": [],
   "source": [
    "import pandas as pd\n",
    "import matplotlib.pyplot as plt"
   ]
  },
  {
   "cell_type": "code",
   "execution_count": 2,
   "id": "faf1ac5a",
   "metadata": {},
   "outputs": [
    {
     "data": {
      "text/html": [
       "<div>\n",
       "<style scoped>\n",
       "    .dataframe tbody tr th:only-of-type {\n",
       "        vertical-align: middle;\n",
       "    }\n",
       "\n",
       "    .dataframe tbody tr th {\n",
       "        vertical-align: top;\n",
       "    }\n",
       "\n",
       "    .dataframe thead th {\n",
       "        text-align: right;\n",
       "    }\n",
       "</style>\n",
       "<table border=\"1\" class=\"dataframe\">\n",
       "  <thead>\n",
       "    <tr style=\"text-align: right;\">\n",
       "      <th></th>\n",
       "      <th>uid</th>\n",
       "      <th>text</th>\n",
       "      <th>udc_1</th>\n",
       "      <th>udc_2</th>\n",
       "      <th>udc_3</th>\n",
       "      <th>udc_4</th>\n",
       "      <th>udc_5</th>\n",
       "      <th>type</th>\n",
       "      <th>generated_title</th>\n",
       "      <th>desc_custom_id</th>\n",
       "      <th>generated_description</th>\n",
       "    </tr>\n",
       "  </thead>\n",
       "  <tbody>\n",
       "    <tr>\n",
       "      <th>0</th>\n",
       "      <td>0</td>\n",
       "      <td>A Beida</td>\n",
       "      <td>1¢(533.22)</td>\n",
       "      <td>NaN</td>\n",
       "      <td>NaN</td>\n",
       "      <td>NaN</td>\n",
       "      <td>NaN</td>\n",
       "      <td>book</td>\n",
       "      <td>Exploring Contemporary Philosophies at Beida</td>\n",
       "      <td>0-request-book-0</td>\n",
       "      <td>\"Exploring Contemporary Philosophies at Beida\"...</td>\n",
       "    </tr>\n",
       "    <tr>\n",
       "      <th>1</th>\n",
       "      <td>0</td>\n",
       "      <td>A Beida</td>\n",
       "      <td>1¢(533.22)</td>\n",
       "      <td>NaN</td>\n",
       "      <td>NaN</td>\n",
       "      <td>NaN</td>\n",
       "      <td>NaN</td>\n",
       "      <td>book</td>\n",
       "      <td>Exploring Chinese Culture in Modern Times</td>\n",
       "      <td>0-request-book-1</td>\n",
       "      <td>\"Exploring Chinese Culture in Modern Times\" of...</td>\n",
       "    </tr>\n",
       "    <tr>\n",
       "      <th>2</th>\n",
       "      <td>0</td>\n",
       "      <td>A Beida</td>\n",
       "      <td>1¢(533.22)</td>\n",
       "      <td>NaN</td>\n",
       "      <td>NaN</td>\n",
       "      <td>NaN</td>\n",
       "      <td>NaN</td>\n",
       "      <td>book</td>\n",
       "      <td>Whispers of the Old Library</td>\n",
       "      <td>0-request-book-2</td>\n",
       "      <td>In \"Whispers of the Old Library,\" A Beida weav...</td>\n",
       "    </tr>\n",
       "    <tr>\n",
       "      <th>3</th>\n",
       "      <td>0</td>\n",
       "      <td>A Beida</td>\n",
       "      <td>1¢(533.22)</td>\n",
       "      <td>NaN</td>\n",
       "      <td>NaN</td>\n",
       "      <td>NaN</td>\n",
       "      <td>NaN</td>\n",
       "      <td>book</td>\n",
       "      <td>Whispers of the Eastern Lotus</td>\n",
       "      <td>0-request-book-3</td>\n",
       "      <td>\"Whispers of the Eastern Lotus\" is a captivati...</td>\n",
       "    </tr>\n",
       "    <tr>\n",
       "      <th>4</th>\n",
       "      <td>0</td>\n",
       "      <td>A Beida</td>\n",
       "      <td>1¢(533.22)</td>\n",
       "      <td>NaN</td>\n",
       "      <td>NaN</td>\n",
       "      <td>NaN</td>\n",
       "      <td>NaN</td>\n",
       "      <td>article</td>\n",
       "      <td>Investigating the Differential Genetic Express...</td>\n",
       "      <td>0-request-sci-0</td>\n",
       "      <td>This article explores the variations in geneti...</td>\n",
       "    </tr>\n",
       "  </tbody>\n",
       "</table>\n",
       "</div>"
      ],
      "text/plain": [
       "   uid     text       udc_1  udc_2  udc_3  udc_4   udc_5     type  \\\n",
       "0    0  A Beida  1¢(533.22)    NaN    NaN    NaN     NaN     book   \n",
       "1    0  A Beida  1¢(533.22)    NaN    NaN    NaN     NaN     book   \n",
       "2    0  A Beida  1¢(533.22)    NaN    NaN    NaN     NaN     book   \n",
       "3    0  A Beida  1¢(533.22)    NaN    NaN    NaN     NaN     book   \n",
       "4    0  A Beida  1¢(533.22)    NaN    NaN    NaN     NaN  article   \n",
       "\n",
       "                                     generated_title    desc_custom_id  \\\n",
       "0       Exploring Contemporary Philosophies at Beida  0-request-book-0   \n",
       "1          Exploring Chinese Culture in Modern Times  0-request-book-1   \n",
       "2                        Whispers of the Old Library  0-request-book-2   \n",
       "3                      Whispers of the Eastern Lotus  0-request-book-3   \n",
       "4  Investigating the Differential Genetic Express...   0-request-sci-0   \n",
       "\n",
       "                               generated_description  \n",
       "0  \"Exploring Contemporary Philosophies at Beida\"...  \n",
       "1  \"Exploring Chinese Culture in Modern Times\" of...  \n",
       "2  In \"Whispers of the Old Library,\" A Beida weav...  \n",
       "3  \"Whispers of the Eastern Lotus\" is a captivati...  \n",
       "4  This article explores the variations in geneti...  "
      ]
     },
     "execution_count": 2,
     "metadata": {},
     "output_type": "execute_result"
    }
   ],
   "source": [
    "df = pd.read_csv('udc_dataset_no_duplicate_titles.csv')\n",
    "df.head()"
   ]
  },
  {
   "cell_type": "code",
   "execution_count": null,
   "id": "5a50e3d1",
   "metadata": {},
   "outputs": [
    {
     "data": {
      "text/html": [
       "<div>\n",
       "<style scoped>\n",
       "    .dataframe tbody tr th:only-of-type {\n",
       "        vertical-align: middle;\n",
       "    }\n",
       "\n",
       "    .dataframe tbody tr th {\n",
       "        vertical-align: top;\n",
       "    }\n",
       "\n",
       "    .dataframe thead th {\n",
       "        text-align: right;\n",
       "    }\n",
       "</style>\n",
       "<table border=\"1\" class=\"dataframe\">\n",
       "  <thead>\n",
       "    <tr style=\"text-align: right;\">\n",
       "      <th></th>\n",
       "      <th>udc_1</th>\n",
       "      <th>generated_title</th>\n",
       "      <th>generated_description</th>\n",
       "    </tr>\n",
       "  </thead>\n",
       "  <tbody>\n",
       "    <tr>\n",
       "      <th>0</th>\n",
       "      <td>1¢(53322)</td>\n",
       "      <td>Exploring Contemporary Philosophies at Beida</td>\n",
       "      <td>\"Exploring Contemporary Philosophies at Beida\"...</td>\n",
       "    </tr>\n",
       "    <tr>\n",
       "      <th>1</th>\n",
       "      <td>1¢(53322)</td>\n",
       "      <td>Exploring Chinese Culture in Modern Times</td>\n",
       "      <td>\"Exploring Chinese Culture in Modern Times\" of...</td>\n",
       "    </tr>\n",
       "    <tr>\n",
       "      <th>2</th>\n",
       "      <td>1¢(53322)</td>\n",
       "      <td>Whispers of the Old Library</td>\n",
       "      <td>In \"Whispers of the Old Library,\" A Beida weav...</td>\n",
       "    </tr>\n",
       "    <tr>\n",
       "      <th>3</th>\n",
       "      <td>1¢(53322)</td>\n",
       "      <td>Whispers of the Eastern Lotus</td>\n",
       "      <td>\"Whispers of the Eastern Lotus\" is a captivati...</td>\n",
       "    </tr>\n",
       "    <tr>\n",
       "      <th>4</th>\n",
       "      <td>1¢(53322)</td>\n",
       "      <td>Investigating the Differential Genetic Express...</td>\n",
       "      <td>This article explores the variations in geneti...</td>\n",
       "    </tr>\n",
       "  </tbody>\n",
       "</table>\n",
       "</div>"
      ],
      "text/plain": [
       "       udc_1                                    generated_title  \\\n",
       "0  1¢(53322)       Exploring Contemporary Philosophies at Beida   \n",
       "1  1¢(53322)          Exploring Chinese Culture in Modern Times   \n",
       "2  1¢(53322)                        Whispers of the Old Library   \n",
       "3  1¢(53322)                      Whispers of the Eastern Lotus   \n",
       "4  1¢(53322)  Investigating the Differential Genetic Express...   \n",
       "\n",
       "                               generated_description  \n",
       "0  \"Exploring Contemporary Philosophies at Beida\"...  \n",
       "1  \"Exploring Chinese Culture in Modern Times\" of...  \n",
       "2  In \"Whispers of the Old Library,\" A Beida weav...  \n",
       "3  \"Whispers of the Eastern Lotus\" is a captivati...  \n",
       "4  This article explores the variations in geneti...  "
      ]
     },
     "execution_count": 3,
     "metadata": {},
     "output_type": "execute_result"
    }
   ],
   "source": [
    "# I'll ignore multi-labels for now.\n",
    "df_cut = df[[' udc_1', 'generated_title', 'generated_description']].copy()\n",
    "\n",
    "# Also remove periods\n",
    "df_cut[' udc_1'] = df_cut[' udc_1'].apply(lambda x: x.strip().replace('.', ''))\n",
    "df_cut.head()"
   ]
  },
  {
   "cell_type": "code",
   "execution_count": 4,
   "id": "9dd8f9bf",
   "metadata": {},
   "outputs": [
    {
     "data": {
      "text/html": [
       "<div>\n",
       "<style scoped>\n",
       "    .dataframe tbody tr th:only-of-type {\n",
       "        vertical-align: middle;\n",
       "    }\n",
       "\n",
       "    .dataframe tbody tr th {\n",
       "        vertical-align: top;\n",
       "    }\n",
       "\n",
       "    .dataframe thead th {\n",
       "        text-align: right;\n",
       "    }\n",
       "</style>\n",
       "<table border=\"1\" class=\"dataframe\">\n",
       "  <thead>\n",
       "    <tr style=\"text-align: right;\">\n",
       "      <th></th>\n",
       "      <th>udc_1</th>\n",
       "      <th>generated_title</th>\n",
       "      <th>generated_description</th>\n",
       "    </tr>\n",
       "  </thead>\n",
       "  <tbody>\n",
       "    <tr>\n",
       "      <th>0</th>\n",
       "      <td>1¢(5</td>\n",
       "      <td>Exploring Contemporary Philosophies at Beida</td>\n",
       "      <td>\"Exploring Contemporary Philosophies at Beida\"...</td>\n",
       "    </tr>\n",
       "    <tr>\n",
       "      <th>1</th>\n",
       "      <td>1¢(5</td>\n",
       "      <td>Exploring Chinese Culture in Modern Times</td>\n",
       "      <td>\"Exploring Chinese Culture in Modern Times\" of...</td>\n",
       "    </tr>\n",
       "    <tr>\n",
       "      <th>2</th>\n",
       "      <td>1¢(5</td>\n",
       "      <td>Whispers of the Old Library</td>\n",
       "      <td>In \"Whispers of the Old Library,\" A Beida weav...</td>\n",
       "    </tr>\n",
       "    <tr>\n",
       "      <th>3</th>\n",
       "      <td>1¢(5</td>\n",
       "      <td>Whispers of the Eastern Lotus</td>\n",
       "      <td>\"Whispers of the Eastern Lotus\" is a captivati...</td>\n",
       "    </tr>\n",
       "    <tr>\n",
       "      <th>4</th>\n",
       "      <td>1¢(5</td>\n",
       "      <td>Investigating the Differential Genetic Express...</td>\n",
       "      <td>This article explores the variations in geneti...</td>\n",
       "    </tr>\n",
       "  </tbody>\n",
       "</table>\n",
       "</div>"
      ],
      "text/plain": [
       "   udc_1                                    generated_title  \\\n",
       "0   1¢(5       Exploring Contemporary Philosophies at Beida   \n",
       "1   1¢(5          Exploring Chinese Culture in Modern Times   \n",
       "2   1¢(5                        Whispers of the Old Library   \n",
       "3   1¢(5                      Whispers of the Eastern Lotus   \n",
       "4   1¢(5  Investigating the Differential Genetic Express...   \n",
       "\n",
       "                               generated_description  \n",
       "0  \"Exploring Contemporary Philosophies at Beida\"...  \n",
       "1  \"Exploring Chinese Culture in Modern Times\" of...  \n",
       "2  In \"Whispers of the Old Library,\" A Beida weav...  \n",
       "3  \"Whispers of the Eastern Lotus\" is a captivati...  \n",
       "4  This article explores the variations in geneti...  "
      ]
     },
     "execution_count": 4,
     "metadata": {},
     "output_type": "execute_result"
    }
   ],
   "source": [
    "# This pruned one will be used for a simple category classification\n",
    "df_tag_pruned = df_cut.copy()\n",
    "df_tag_pruned[' udc_1'] = df_tag_pruned[' udc_1'].apply(lambda x: x.strip()[:4])\n",
    "df_tag_pruned.head()"
   ]
  },
  {
   "cell_type": "code",
   "execution_count": 5,
   "id": "24f469dc",
   "metadata": {},
   "outputs": [
    {
     "data": {
      "text/plain": [
       "['h', 'e', 'l', 'l', 'o']"
      ]
     },
     "execution_count": 5,
     "metadata": {},
     "output_type": "execute_result"
    }
   ],
   "source": [
    "def udc_to_list(udc):\n",
    "    \"\"\"Convert UDC code to a list of its components.\"\"\"\n",
    "    list_udc = []\n",
    "    for i in udc:\n",
    "        list_udc.append(i)\n",
    "    return list_udc\n",
    "\n",
    "udc_to_list('hello')"
   ]
  },
  {
   "cell_type": "code",
   "execution_count": 6,
   "id": "984cc13e",
   "metadata": {},
   "outputs": [
    {
     "data": {
      "text/html": [
       "<div>\n",
       "<style scoped>\n",
       "    .dataframe tbody tr th:only-of-type {\n",
       "        vertical-align: middle;\n",
       "    }\n",
       "\n",
       "    .dataframe tbody tr th {\n",
       "        vertical-align: top;\n",
       "    }\n",
       "\n",
       "    .dataframe thead th {\n",
       "        text-align: right;\n",
       "    }\n",
       "</style>\n",
       "<table border=\"1\" class=\"dataframe\">\n",
       "  <thead>\n",
       "    <tr style=\"text-align: right;\">\n",
       "      <th></th>\n",
       "      <th>generated_title</th>\n",
       "      <th>generated_description</th>\n",
       "    </tr>\n",
       "  </thead>\n",
       "  <tbody>\n",
       "    <tr>\n",
       "      <th>0</th>\n",
       "      <td>Exploring Contemporary Philosophies at Beida</td>\n",
       "      <td>\"Exploring Contemporary Philosophies at Beida\"...</td>\n",
       "    </tr>\n",
       "    <tr>\n",
       "      <th>1</th>\n",
       "      <td>Exploring Chinese Culture in Modern Times</td>\n",
       "      <td>\"Exploring Chinese Culture in Modern Times\" of...</td>\n",
       "    </tr>\n",
       "    <tr>\n",
       "      <th>2</th>\n",
       "      <td>Whispers of the Old Library</td>\n",
       "      <td>In \"Whispers of the Old Library,\" A Beida weav...</td>\n",
       "    </tr>\n",
       "    <tr>\n",
       "      <th>3</th>\n",
       "      <td>Whispers of the Eastern Lotus</td>\n",
       "      <td>\"Whispers of the Eastern Lotus\" is a captivati...</td>\n",
       "    </tr>\n",
       "    <tr>\n",
       "      <th>4</th>\n",
       "      <td>Investigating the Differential Genetic Express...</td>\n",
       "      <td>This article explores the variations in geneti...</td>\n",
       "    </tr>\n",
       "  </tbody>\n",
       "</table>\n",
       "</div>"
      ],
      "text/plain": [
       "                                     generated_title  \\\n",
       "0       Exploring Contemporary Philosophies at Beida   \n",
       "1          Exploring Chinese Culture in Modern Times   \n",
       "2                        Whispers of the Old Library   \n",
       "3                      Whispers of the Eastern Lotus   \n",
       "4  Investigating the Differential Genetic Express...   \n",
       "\n",
       "                               generated_description  \n",
       "0  \"Exploring Contemporary Philosophies at Beida\"...  \n",
       "1  \"Exploring Chinese Culture in Modern Times\" of...  \n",
       "2  In \"Whispers of the Old Library,\" A Beida weav...  \n",
       "3  \"Whispers of the Eastern Lotus\" is a captivati...  \n",
       "4  This article explores the variations in geneti...  "
      ]
     },
     "execution_count": 6,
     "metadata": {},
     "output_type": "execute_result"
    }
   ],
   "source": [
    "text_values = df[['generated_title', 'generated_description']].copy()\n",
    "text_values.head()"
   ]
  },
  {
   "cell_type": "code",
   "execution_count": 7,
   "id": "54bc5134",
   "metadata": {},
   "outputs": [
    {
     "data": {
      "text/plain": [
       "0    Exploring Contemporary Philosophies at Beida \"...\n",
       "1    Exploring Chinese Culture in Modern Times \"Exp...\n",
       "2    Whispers of the Old Library In \"Whispers of th...\n",
       "3    Whispers of the Eastern Lotus \"Whispers of the...\n",
       "4    Investigating the Differential Genetic Express...\n",
       "dtype: object"
      ]
     },
     "execution_count": 7,
     "metadata": {},
     "output_type": "execute_result"
    }
   ],
   "source": [
    "text_values_cat = text_values['generated_title'] + ' ' + text_values['generated_description']\n",
    "text_values_cat.head()"
   ]
  },
  {
   "cell_type": "code",
   "execution_count": null,
   "id": "46aa19e5",
   "metadata": {},
   "outputs": [],
   "source": []
  },
  {
   "cell_type": "markdown",
   "id": "43ecd3aa",
   "metadata": {},
   "source": [
    "# Data processing"
   ]
  },
  {
   "cell_type": "code",
   "execution_count": 8,
   "id": "5ae32506",
   "metadata": {},
   "outputs": [],
   "source": [
    "from sklearn.feature_extraction.text import TfidfVectorizer\n",
    "from sklearn.pipeline import Pipeline"
   ]
  },
  {
   "cell_type": "code",
   "execution_count": 9,
   "id": "37f6f54d",
   "metadata": {},
   "outputs": [],
   "source": [
    "vectorizer = TfidfVectorizer()"
   ]
  },
  {
   "cell_type": "code",
   "execution_count": 10,
   "id": "5bb7fafa",
   "metadata": {},
   "outputs": [],
   "source": [
    "param_grid_vectorizer = {'vectorizer__ngram_range': [(1, 2), (1, 3), (1, 4)],\n",
    "              'vectorizer__max_df': [0.5, 0.75 , 0.9], # We only have theoretically 7 samples per class, so a int can be used\n",
    "              'vectorizer__min_df': [1,2, 3,5,7]} # Since there are some niche categories, float values are not used\n",
    "              \n",
    "\n",
    "\n"
   ]
  },
  {
   "cell_type": "markdown",
   "id": "f59f2e63",
   "metadata": {},
   "source": [
    "## Train/Test Split"
   ]
  },
  {
   "cell_type": "code",
   "execution_count": 11,
   "id": "4702e517",
   "metadata": {},
   "outputs": [
    {
     "name": "stdout",
     "output_type": "stream",
     "text": [
      "Total samples: 37373\n",
      "Train samples: 23918\n",
      "Validation samples: 5980\n",
      "Test samples: 7475\n"
     ]
    }
   ],
   "source": [
    "from sklearn.model_selection import train_test_split\n",
    "import numpy as np\n",
    "\n",
    "# Get the total number of samples\n",
    "total_samples = len(df_tag_pruned) # All are same size, so we can use any of them\n",
    "indices = np.arange(total_samples)\n",
    "\n",
    "# First split: 80% train+val, 20% test\n",
    "trainval_idx, test_idx = train_test_split(indices, test_size=0.2, random_state=42)\n",
    "\n",
    "# Second split: from the 80%, take 80% for train and 20% for validation\n",
    "# This gives us 64% train, 16% val, 20% test\n",
    "train_idx, val_idx = train_test_split(trainval_idx, test_size=0.2, random_state=42)\n",
    "\n",
    "print(f\"Total samples: {total_samples}\")\n",
    "print(f\"Train samples: {len(train_idx)}\")\n",
    "print(f\"Validation samples: {len(val_idx)}\")\n",
    "print(f\"Test samples: {len(test_idx)}\")"
   ]
  },
  {
   "cell_type": "code",
   "execution_count": 12,
   "id": "0473d256",
   "metadata": {},
   "outputs": [],
   "source": [
    "x_train = text_values_cat[trainval_idx]\n",
    "#x_val = text_values_cat[val_idx]  # We're using gridsearch, so we don't need a separate validation set\n",
    "x_test = text_values_cat[test_idx]"
   ]
  },
  {
   "cell_type": "markdown",
   "id": "bf973392",
   "metadata": {},
   "source": []
  },
  {
   "cell_type": "markdown",
   "id": "41f96320",
   "metadata": {},
   "source": [
    "# Std KNN"
   ]
  },
  {
   "cell_type": "code",
   "execution_count": 13,
   "id": "8d845bc2",
   "metadata": {},
   "outputs": [],
   "source": [
    "# Starting with the simplest\n",
    "from sklearn.neighbors import KNeighborsClassifier\n",
    "from sklearn.preprocessing import LabelEncoder"
   ]
  },
  {
   "cell_type": "code",
   "execution_count": 14,
   "id": "2b81aa8c",
   "metadata": {},
   "outputs": [],
   "source": [
    "std_pruning_knn = KNeighborsClassifier()\n",
    "knn_args = {'knn__n_neighbors': range(3,7)}\n",
    "le = LabelEncoder()"
   ]
  },
  {
   "cell_type": "code",
   "execution_count": 16,
   "id": "e9ae2c23",
   "metadata": {},
   "outputs": [],
   "source": [
    "y_train_std_pruning = le.fit_transform(df_tag_pruned[' udc_1'])[trainval_idx]\n",
    "y_test_std_pruning = le.transform(df_tag_pruned[' udc_1'])[test_idx]\n"
   ]
  },
  {
   "cell_type": "code",
   "execution_count": 17,
   "id": "1bee6d3c",
   "metadata": {},
   "outputs": [
    {
     "data": {
      "text/plain": [
       "1201"
      ]
     },
     "execution_count": 17,
     "metadata": {},
     "output_type": "execute_result"
    }
   ],
   "source": [
    "len(le.classes_)"
   ]
  },
  {
   "cell_type": "code",
   "execution_count": 17,
   "id": "f8acbbf4",
   "metadata": {},
   "outputs": [],
   "source": [
    "from sklearn.model_selection import GridSearchCV"
   ]
  },
  {
   "cell_type": "code",
   "execution_count": 24,
   "id": "cd613a99",
   "metadata": {},
   "outputs": [],
   "source": [
    "std_pruning_knn_pipe = Pipeline([\n",
    "    ('vectorizer', vectorizer),\n",
    "    ('knn', std_pruning_knn)\n",
    "])"
   ]
  },
  {
   "cell_type": "code",
   "execution_count": 56,
   "id": "9dfd17c2",
   "metadata": {},
   "outputs": [
    {
     "data": {
      "text/plain": [
       "{'vectorizer__ngram_range': [(1, 2), (1, 3), (1, 4)],\n",
       " 'vectorizer__max_df': [0.7, 0.8, 0.9, 1, 20, 50, 100, 300],\n",
       " 'vectorizer__min_df': [1, 3, 5, 7],\n",
       " 'knn__n_neighbors': range(3, 7)}"
      ]
     },
     "execution_count": 56,
     "metadata": {},
     "output_type": "execute_result"
    }
   ],
   "source": [
    "# Concatenate the parameter grid for vectorizer and knn\n",
    "grid_search_param_grid_std_pruning = param_grid_vectorizer.copy()\n",
    "grid_search_param_grid_std_pruning.update(knn_args)\n",
    "grid_search_param_grid_std_pruning"
   ]
  },
  {
   "cell_type": "code",
   "execution_count": 47,
   "id": "290d43a3",
   "metadata": {},
   "outputs": [],
   "source": [
    "from sklearn.model_selection import KFold"
   ]
  },
  {
   "cell_type": "code",
   "execution_count": 48,
   "id": "8ae20abd",
   "metadata": {},
   "outputs": [],
   "source": [
    "folder = KFold(n_splits=3, shuffle=True, random_state=42)"
   ]
  },
  {
   "cell_type": "code",
   "execution_count": 57,
   "id": "9b71bfb4",
   "metadata": {},
   "outputs": [],
   "source": [
    "std_pruning_cv = GridSearchCV(\n",
    "    std_pruning_knn_pipe,\n",
    "    param_grid=grid_search_param_grid_std_pruning,\n",
    "    scoring='balanced_accuracy',\n",
    "    cv=folder,\n",
    "    n_jobs=2,\n",
    "    verbose=1)"
   ]
  },
  {
   "cell_type": "code",
   "execution_count": 26,
   "id": "5f999787",
   "metadata": {},
   "outputs": [],
   "source": [
    "from time import time"
   ]
  },
  {
   "cell_type": "code",
   "execution_count": 58,
   "id": "0b330664",
   "metadata": {},
   "outputs": [
    {
     "name": "stdout",
     "output_type": "stream",
     "text": [
      "Fitting 3 folds for each of 384 candidates, totalling 1152 fits\n"
     ]
    },
    {
     "name": "stderr",
     "output_type": "stream",
     "text": [
      "c:\\Users\\wrimp\\Documents\\UDC2\\.conda\\lib\\site-packages\\sklearn\\model_selection\\_validation.py:528: FitFailedWarning: \n",
      "108 fits failed out of a total of 1152.\n",
      "The score on these train-test partitions for these parameters will be set to nan.\n",
      "If these failures are not expected, you can try to debug them by setting error_score='raise'.\n",
      "\n",
      "Below are more details about the failures:\n",
      "--------------------------------------------------------------------------------\n",
      "108 fits failed with the following error:\n",
      "Traceback (most recent call last):\n",
      "  File \"c:\\Users\\wrimp\\Documents\\UDC2\\.conda\\lib\\site-packages\\sklearn\\model_selection\\_validation.py\", line 866, in _fit_and_score\n",
      "    estimator.fit(X_train, y_train, **fit_params)\n",
      "  File \"c:\\Users\\wrimp\\Documents\\UDC2\\.conda\\lib\\site-packages\\sklearn\\base.py\", line 1389, in wrapper\n",
      "    return fit_method(estimator, *args, **kwargs)\n",
      "  File \"c:\\Users\\wrimp\\Documents\\UDC2\\.conda\\lib\\site-packages\\sklearn\\pipeline.py\", line 654, in fit\n",
      "    Xt = self._fit(X, y, routed_params, raw_params=params)\n",
      "  File \"c:\\Users\\wrimp\\Documents\\UDC2\\.conda\\lib\\site-packages\\sklearn\\pipeline.py\", line 588, in _fit\n",
      "    X, fitted_transformer = fit_transform_one_cached(\n",
      "  File \"c:\\Users\\wrimp\\Documents\\UDC2\\.conda\\lib\\site-packages\\joblib\\memory.py\", line 326, in __call__\n",
      "    return self.func(*args, **kwargs)\n",
      "  File \"c:\\Users\\wrimp\\Documents\\UDC2\\.conda\\lib\\site-packages\\sklearn\\pipeline.py\", line 1551, in _fit_transform_one\n",
      "    res = transformer.fit_transform(X, y, **params.get(\"fit_transform\", {}))\n",
      "  File \"c:\\Users\\wrimp\\Documents\\UDC2\\.conda\\lib\\site-packages\\sklearn\\feature_extraction\\text.py\", line 2104, in fit_transform\n",
      "    X = super().fit_transform(raw_documents)\n",
      "  File \"c:\\Users\\wrimp\\Documents\\UDC2\\.conda\\lib\\site-packages\\sklearn\\base.py\", line 1389, in wrapper\n",
      "    return fit_method(estimator, *args, **kwargs)\n",
      "  File \"c:\\Users\\wrimp\\Documents\\UDC2\\.conda\\lib\\site-packages\\sklearn\\feature_extraction\\text.py\", line 1386, in fit_transform\n",
      "    raise ValueError(\"max_df corresponds to < documents than min_df\")\n",
      "ValueError: max_df corresponds to < documents than min_df\n",
      "\n",
      "  warnings.warn(some_fits_failed_message, FitFailedWarning)\n",
      "c:\\Users\\wrimp\\Documents\\UDC2\\.conda\\lib\\site-packages\\sklearn\\model_selection\\_search.py:1108: UserWarning: One or more of the test scores are non-finite: [0.67245979 0.63456435 0.60575997 0.11710309 0.04895729 0.03110317\n",
      " 0.09716908 0.0372599  0.02603471 0.09324303 0.04146093 0.02877395\n",
      " 0.67304675 0.63483096 0.60582208 0.11717258 0.04883215 0.03183015\n",
      " 0.09720361 0.0378749  0.02705798 0.09302947 0.04164241 0.02963897\n",
      " 0.67304675 0.63483096 0.60582208 0.11717258 0.04883215 0.03183015\n",
      " 0.09720361 0.0378749  0.02705798 0.09302947 0.04164241 0.02963897\n",
      " 0.0348408  0.01001643 0.32849102        nan        nan        nan\n",
      "        nan        nan        nan        nan        nan        nan\n",
      " 0.661911   0.64371925 0.61879139 0.21983461 0.10110644 0.06378346\n",
      " 0.18484646 0.09182725 0.06125165 0.18313564 0.10468439 0.07641428\n",
      " 0.6723525  0.64838772 0.62503344 0.18955744 0.07862094 0.04631744\n",
      " 0.16606405 0.06729724 0.04040657 0.16141058 0.07618365 0.04878352\n",
      " 0.68209629 0.6511519  0.6262145  0.16635101 0.06596615 0.03865962\n",
      " 0.14598349 0.05538888 0.03228533 0.14071729 0.06260818 0.03845804\n",
      " 0.68416926 0.6492693  0.62130659 0.13467024 0.05396415 0.03312303\n",
      " 0.11479469 0.04053885 0.02665652 0.11049764 0.04479004 0.03068113\n",
      " 0.64611013 0.61756371 0.59758069 0.11640239 0.04800673 0.03085707\n",
      " 0.08896649 0.03466366 0.02331916 0.08764629 0.03838085 0.0268649\n",
      " 0.64606849 0.61746076 0.59723124 0.11640242 0.04831762 0.03145139\n",
      " 0.09102444 0.03444154 0.02413368 0.08703649 0.03888147 0.02626552\n",
      " 0.64606849 0.61746076 0.59723124 0.11640242 0.04831762 0.03145139\n",
      " 0.09102444 0.03444154 0.02413368 0.08703649 0.03888147 0.02626552\n",
      " 0.02400818 0.03218862 0.32154716        nan        nan        nan\n",
      "        nan        nan        nan        nan        nan        nan\n",
      " 0.63222761 0.62448514 0.6076249  0.21609344 0.10011591 0.06317439\n",
      " 0.17219537 0.08453078 0.05648369 0.1725217  0.09989764 0.07238121\n",
      " 0.63848033 0.62730702 0.61153786 0.18717796 0.07790044 0.04576597\n",
      " 0.15701688 0.06190096 0.03759811 0.15353929 0.06990728 0.04556124\n",
      " 0.6484858  0.63112867 0.61356113 0.16293383 0.06533815 0.03835553\n",
      " 0.1353929  0.05182961 0.02965184 0.13401863 0.05728661 0.03557892\n",
      " 0.65540716 0.63046976 0.61046972 0.13226839 0.05361433 0.03260424\n",
      " 0.10650851 0.03787687 0.02433378 0.103045   0.04148659 0.02852693\n",
      " 0.62784752 0.60484718 0.58657976 0.11478492 0.04720891 0.03064496\n",
      " 0.07922757 0.03114469 0.02083125 0.07604429 0.03226222 0.02374256\n",
      " 0.62772433 0.60423155 0.58665272 0.11534233 0.04785757 0.03098781\n",
      " 0.08081002 0.03053552 0.02050063 0.07713556 0.03329526 0.02328142\n",
      " 0.62772433 0.60423155 0.58665272 0.11534233 0.04785757 0.03098781\n",
      " 0.08081002 0.03053552 0.02050063 0.07713556 0.03329526 0.02328142\n",
      " 0.01806396 0.10818971 0.31964246        nan        nan        nan\n",
      "        nan        nan        nan        nan        nan        nan\n",
      " 0.61257178 0.61106641 0.59957949 0.21406734 0.09901494 0.06242308\n",
      " 0.16478533 0.07765584 0.05014186 0.16401529 0.09393716 0.0660845\n",
      " 0.61794664 0.60992825 0.59596698 0.18559382 0.07705796 0.04525818\n",
      " 0.14304205 0.05505782 0.03308912 0.14405461 0.06462342 0.04003903\n",
      " 0.62454109 0.60943121 0.60074154 0.1624012  0.06482937 0.03789492\n",
      " 0.12299961 0.04697896 0.02539306 0.12560576 0.05263352 0.03186231\n",
      " 0.63141611 0.61561979 0.59858404 0.13132018 0.05258458 0.0319588\n",
      " 0.09525817 0.03177726 0.02134053 0.09360063 0.03636659 0.02411633\n",
      " 0.59669437 0.57925632 0.56736597 0.12832107 0.06297792 0.0465678\n",
      " 0.06698838 0.02627612 0.01774499 0.06633929 0.02677148 0.01983661\n",
      " 0.5966762  0.57865499 0.5676128  0.12853546 0.06296351 0.04693533\n",
      " 0.06904353 0.0249641  0.0183241  0.06605409 0.02881138 0.01915781\n",
      " 0.5966762  0.57865499 0.5676128  0.12853546 0.06296351 0.04693533\n",
      " 0.06904353 0.0249641  0.0183241  0.06605409 0.02881138 0.01915781\n",
      " 0.01323563 0.14705587 0.32086838        nan        nan        nan\n",
      "        nan        nan        nan        nan        nan        nan\n",
      " 0.58418047 0.58902996 0.58218824 0.22214887 0.11137186 0.07514757\n",
      " 0.15417392 0.0679771  0.04378886 0.1559628  0.08310558 0.05808336\n",
      " 0.58743381 0.58358853 0.5753558  0.19618901 0.09204752 0.06038413\n",
      " 0.12876399 0.04741443 0.02907038 0.1301603  0.05618805 0.03489708\n",
      " 0.59337696 0.58641994 0.5807027  0.17458461 0.08008283 0.05325175\n",
      " 0.10664297 0.03928548 0.02114634 0.1127113  0.04647748 0.02675166\n",
      " 0.59825954 0.59149219 0.57930773 0.14496704 0.06829163 0.04927681\n",
      " 0.08208926 0.0266162  0.01778702 0.08192079 0.0315704  0.0205355 ]\n",
      "  warnings.warn(\n"
     ]
    },
    {
     "name": "stdout",
     "output_type": "stream",
     "text": [
      "Best parameters: {'knn__n_neighbors': 3, 'vectorizer__max_df': 300, 'vectorizer__min_df': 1, 'vectorizer__ngram_range': (1, 2)}\n",
      "Best score: 0.6841692621312259\n",
      "Training time: 4677.55 seconds\n"
     ]
    }
   ],
   "source": [
    "start_time = time()\n",
    "std_pruning_cv.fit(x_train, y_train_std_pruning)\n",
    "print(f\"Best parameters: {std_pruning_cv.best_params_}\")\n",
    "print(f\"Best score: {std_pruning_cv.best_score_}\")\n",
    "end_time = time()\n",
    "print(f\"Training time: {end_time - start_time:.2f} seconds\")"
   ]
  },
  {
   "cell_type": "markdown",
   "id": "7c6a40e1",
   "metadata": {},
   "source": [
    "#### Saving"
   ]
  },
  {
   "cell_type": "code",
   "execution_count": 31,
   "id": "61f8d1cd",
   "metadata": {},
   "outputs": [],
   "source": [
    "import pickle"
   ]
  },
  {
   "cell_type": "code",
   "execution_count": 59,
   "id": "796a5597",
   "metadata": {},
   "outputs": [],
   "source": [
    "with open('std_pruning_knn_model.pkl', 'wb') as f:\n",
    "    pickle.dump(std_pruning_cv, f)\n",
    "\n",
    "with open('std_pruning_label_encoder.pkl', 'wb') as f:\n",
    "    pickle.dump(le, f)"
   ]
  },
  {
   "cell_type": "markdown",
   "id": "fbb923dd",
   "metadata": {},
   "source": [
    "# Sep KNN"
   ]
  },
  {
   "cell_type": "code",
   "execution_count": 33,
   "id": "c4982251",
   "metadata": {},
   "outputs": [
    {
     "data": {
      "text/html": [
       "<div>\n",
       "<style scoped>\n",
       "    .dataframe tbody tr th:only-of-type {\n",
       "        vertical-align: middle;\n",
       "    }\n",
       "\n",
       "    .dataframe tbody tr th {\n",
       "        vertical-align: top;\n",
       "    }\n",
       "\n",
       "    .dataframe thead th {\n",
       "        text-align: right;\n",
       "    }\n",
       "</style>\n",
       "<table border=\"1\" class=\"dataframe\">\n",
       "  <thead>\n",
       "    <tr style=\"text-align: right;\">\n",
       "      <th></th>\n",
       "      <th>0</th>\n",
       "      <th>1</th>\n",
       "      <th>2</th>\n",
       "      <th>3</th>\n",
       "      <th>4</th>\n",
       "      <th>5</th>\n",
       "      <th>6</th>\n",
       "      <th>7</th>\n",
       "      <th>8</th>\n",
       "      <th>9</th>\n",
       "    </tr>\n",
       "  </thead>\n",
       "  <tbody>\n",
       "    <tr>\n",
       "      <th>0</th>\n",
       "      <td>1</td>\n",
       "      <td>¢</td>\n",
       "      <td>(</td>\n",
       "      <td>5</td>\n",
       "      <td>3</td>\n",
       "      <td>3</td>\n",
       "      <td>2</td>\n",
       "      <td>2</td>\n",
       "      <td>)</td>\n",
       "      <td>no_value</td>\n",
       "    </tr>\n",
       "    <tr>\n",
       "      <th>1</th>\n",
       "      <td>1</td>\n",
       "      <td>¢</td>\n",
       "      <td>(</td>\n",
       "      <td>5</td>\n",
       "      <td>3</td>\n",
       "      <td>3</td>\n",
       "      <td>2</td>\n",
       "      <td>2</td>\n",
       "      <td>)</td>\n",
       "      <td>no_value</td>\n",
       "    </tr>\n",
       "    <tr>\n",
       "      <th>2</th>\n",
       "      <td>1</td>\n",
       "      <td>¢</td>\n",
       "      <td>(</td>\n",
       "      <td>5</td>\n",
       "      <td>3</td>\n",
       "      <td>3</td>\n",
       "      <td>2</td>\n",
       "      <td>2</td>\n",
       "      <td>)</td>\n",
       "      <td>no_value</td>\n",
       "    </tr>\n",
       "    <tr>\n",
       "      <th>3</th>\n",
       "      <td>1</td>\n",
       "      <td>¢</td>\n",
       "      <td>(</td>\n",
       "      <td>5</td>\n",
       "      <td>3</td>\n",
       "      <td>3</td>\n",
       "      <td>2</td>\n",
       "      <td>2</td>\n",
       "      <td>)</td>\n",
       "      <td>no_value</td>\n",
       "    </tr>\n",
       "    <tr>\n",
       "      <th>4</th>\n",
       "      <td>1</td>\n",
       "      <td>¢</td>\n",
       "      <td>(</td>\n",
       "      <td>5</td>\n",
       "      <td>3</td>\n",
       "      <td>3</td>\n",
       "      <td>2</td>\n",
       "      <td>2</td>\n",
       "      <td>)</td>\n",
       "      <td>no_value</td>\n",
       "    </tr>\n",
       "    <tr>\n",
       "      <th>...</th>\n",
       "      <td>...</td>\n",
       "      <td>...</td>\n",
       "      <td>...</td>\n",
       "      <td>...</td>\n",
       "      <td>...</td>\n",
       "      <td>...</td>\n",
       "      <td>...</td>\n",
       "      <td>...</td>\n",
       "      <td>...</td>\n",
       "      <td>...</td>\n",
       "    </tr>\n",
       "    <tr>\n",
       "      <th>37368</th>\n",
       "      <td>6</td>\n",
       "      <td>2</td>\n",
       "      <td>1</td>\n",
       "      <td>6</td>\n",
       "      <td>0</td>\n",
       "      <td>6</td>\n",
       "      <td>5</td>\n",
       "      <td>no_value</td>\n",
       "      <td>no_value</td>\n",
       "      <td>no_value</td>\n",
       "    </tr>\n",
       "    <tr>\n",
       "      <th>37369</th>\n",
       "      <td>6</td>\n",
       "      <td>2</td>\n",
       "      <td>1</td>\n",
       "      <td>6</td>\n",
       "      <td>0</td>\n",
       "      <td>6</td>\n",
       "      <td>5</td>\n",
       "      <td>no_value</td>\n",
       "      <td>no_value</td>\n",
       "      <td>no_value</td>\n",
       "    </tr>\n",
       "    <tr>\n",
       "      <th>37370</th>\n",
       "      <td>6</td>\n",
       "      <td>2</td>\n",
       "      <td>1</td>\n",
       "      <td>6</td>\n",
       "      <td>0</td>\n",
       "      <td>6</td>\n",
       "      <td>5</td>\n",
       "      <td>no_value</td>\n",
       "      <td>no_value</td>\n",
       "      <td>no_value</td>\n",
       "    </tr>\n",
       "    <tr>\n",
       "      <th>37371</th>\n",
       "      <td>6</td>\n",
       "      <td>2</td>\n",
       "      <td>1</td>\n",
       "      <td>6</td>\n",
       "      <td>0</td>\n",
       "      <td>6</td>\n",
       "      <td>5</td>\n",
       "      <td>no_value</td>\n",
       "      <td>no_value</td>\n",
       "      <td>no_value</td>\n",
       "    </tr>\n",
       "    <tr>\n",
       "      <th>37372</th>\n",
       "      <td>6</td>\n",
       "      <td>2</td>\n",
       "      <td>1</td>\n",
       "      <td>6</td>\n",
       "      <td>0</td>\n",
       "      <td>6</td>\n",
       "      <td>5</td>\n",
       "      <td>no_value</td>\n",
       "      <td>no_value</td>\n",
       "      <td>no_value</td>\n",
       "    </tr>\n",
       "  </tbody>\n",
       "</table>\n",
       "<p>37373 rows × 10 columns</p>\n",
       "</div>"
      ],
      "text/plain": [
       "       0  1  2  3  4  5  6         7         8         9\n",
       "0      1  ¢  (  5  3  3  2         2         )  no_value\n",
       "1      1  ¢  (  5  3  3  2         2         )  no_value\n",
       "2      1  ¢  (  5  3  3  2         2         )  no_value\n",
       "3      1  ¢  (  5  3  3  2         2         )  no_value\n",
       "4      1  ¢  (  5  3  3  2         2         )  no_value\n",
       "...   .. .. .. .. .. .. ..       ...       ...       ...\n",
       "37368  6  2  1  6  0  6  5  no_value  no_value  no_value\n",
       "37369  6  2  1  6  0  6  5  no_value  no_value  no_value\n",
       "37370  6  2  1  6  0  6  5  no_value  no_value  no_value\n",
       "37371  6  2  1  6  0  6  5  no_value  no_value  no_value\n",
       "37372  6  2  1  6  0  6  5  no_value  no_value  no_value\n",
       "\n",
       "[37373 rows x 10 columns]"
      ]
     },
     "execution_count": 33,
     "metadata": {},
     "output_type": "execute_result"
    }
   ],
   "source": [
    "df_exploded = df_cut.copy()\n",
    "df_exploded[' udc_1'] = df_exploded[' udc_1'].apply(lambda x: x.strip()[:10]).apply(udc_to_list)\n",
    "# We could add more values later (by expanding :10 to :12 or more)\n",
    "cat_values = df_exploded[' udc_1'].apply(pd.Series).fillna('no_value')\n",
    "cat_values"
   ]
  },
  {
   "cell_type": "code",
   "execution_count": 34,
   "id": "90e085d1",
   "metadata": {},
   "outputs": [
    {
     "name": "stdout",
     "output_type": "stream",
     "text": [
      "10\n"
     ]
    },
    {
     "data": {
      "text/plain": [
       "10378    1\n",
       "27852    6\n",
       "12757    6\n",
       "25950    5\n",
       "18146    3\n",
       "        ..\n",
       "16850    5\n",
       "6265     3\n",
       "11284    6\n",
       "860      6\n",
       "15795    1\n",
       "Name: 0, Length: 29898, dtype: object"
      ]
     },
     "execution_count": 34,
     "metadata": {},
     "output_type": "execute_result"
    }
   ],
   "source": [
    "y_train_sep_cat_list = []\n",
    "for i in cat_values.columns:\n",
    "    y_train_sep_cat_list.append(cat_values[i][trainval_idx])\n",
    "\n",
    "# Now we have a df for each #number\n",
    "print(len(y_train_sep_cat_list))\n",
    "y_train_sep_cat_list[0]"
   ]
  },
  {
   "cell_type": "code",
   "execution_count": 35,
   "id": "908b7953",
   "metadata": {},
   "outputs": [],
   "source": [
    "# Import pickle to save the model\n",
    "import pickle"
   ]
  },
  {
   "cell_type": "code",
   "execution_count": 36,
   "id": "3088a015",
   "metadata": {},
   "outputs": [],
   "source": [
    "from sklearn.experimental import enable_halving_search_cv\n",
    "from sklearn.model_selection import HalvingGridSearchCV"
   ]
  },
  {
   "cell_type": "markdown",
   "id": "1b510449",
   "metadata": {},
   "source": [
    "### Training"
   ]
  },
  {
   "cell_type": "code",
   "execution_count": 54,
   "id": "d3d51310",
   "metadata": {},
   "outputs": [
    {
     "name": "stderr",
     "output_type": "stream",
     "text": [
      "c:\\Users\\wrimp\\Documents\\UDC2\\.conda\\lib\\site-packages\\sklearn\\model_selection\\_validation.py:528: FitFailedWarning: \n",
      "108 fits failed out of a total of 1152.\n",
      "The score on these train-test partitions for these parameters will be set to 0.\n",
      "If these failures are not expected, you can try to debug them by setting error_score='raise'.\n",
      "\n",
      "Below are more details about the failures:\n",
      "--------------------------------------------------------------------------------\n",
      "108 fits failed with the following error:\n",
      "Traceback (most recent call last):\n",
      "  File \"c:\\Users\\wrimp\\Documents\\UDC2\\.conda\\lib\\site-packages\\sklearn\\model_selection\\_validation.py\", line 866, in _fit_and_score\n",
      "    estimator.fit(X_train, y_train, **fit_params)\n",
      "  File \"c:\\Users\\wrimp\\Documents\\UDC2\\.conda\\lib\\site-packages\\sklearn\\base.py\", line 1389, in wrapper\n",
      "    return fit_method(estimator, *args, **kwargs)\n",
      "  File \"c:\\Users\\wrimp\\Documents\\UDC2\\.conda\\lib\\site-packages\\sklearn\\pipeline.py\", line 654, in fit\n",
      "    Xt = self._fit(X, y, routed_params, raw_params=params)\n",
      "  File \"c:\\Users\\wrimp\\Documents\\UDC2\\.conda\\lib\\site-packages\\sklearn\\pipeline.py\", line 588, in _fit\n",
      "    X, fitted_transformer = fit_transform_one_cached(\n",
      "  File \"c:\\Users\\wrimp\\Documents\\UDC2\\.conda\\lib\\site-packages\\joblib\\memory.py\", line 326, in __call__\n",
      "    return self.func(*args, **kwargs)\n",
      "  File \"c:\\Users\\wrimp\\Documents\\UDC2\\.conda\\lib\\site-packages\\sklearn\\pipeline.py\", line 1551, in _fit_transform_one\n",
      "    res = transformer.fit_transform(X, y, **params.get(\"fit_transform\", {}))\n",
      "  File \"c:\\Users\\wrimp\\Documents\\UDC2\\.conda\\lib\\site-packages\\sklearn\\feature_extraction\\text.py\", line 2104, in fit_transform\n",
      "    X = super().fit_transform(raw_documents)\n",
      "  File \"c:\\Users\\wrimp\\Documents\\UDC2\\.conda\\lib\\site-packages\\sklearn\\base.py\", line 1389, in wrapper\n",
      "    return fit_method(estimator, *args, **kwargs)\n",
      "  File \"c:\\Users\\wrimp\\Documents\\UDC2\\.conda\\lib\\site-packages\\sklearn\\feature_extraction\\text.py\", line 1386, in fit_transform\n",
      "    raise ValueError(\"max_df corresponds to < documents than min_df\")\n",
      "ValueError: max_df corresponds to < documents than min_df\n",
      "\n",
      "  warnings.warn(some_fits_failed_message, FitFailedWarning)\n"
     ]
    },
    {
     "name": "stdout",
     "output_type": "stream",
     "text": [
      "Best parameters for category 0: {'knn__n_neighbors': 3, 'vectorizer__max_df': 0.9, 'vectorizer__min_df': 1, 'vectorizer__ngram_range': (1, 2)}\n",
      "Best score for category 0: 0.7624290868388884\n",
      "Training time for category 0: 253.91 seconds\n",
      "Saving model for category 0 to model_output/knn_value_0.pkl\n"
     ]
    },
    {
     "name": "stderr",
     "output_type": "stream",
     "text": [
      "c:\\Users\\wrimp\\Documents\\UDC2\\.conda\\lib\\site-packages\\sklearn\\model_selection\\_validation.py:528: FitFailedWarning: \n",
      "108 fits failed out of a total of 1152.\n",
      "The score on these train-test partitions for these parameters will be set to 0.\n",
      "If these failures are not expected, you can try to debug them by setting error_score='raise'.\n",
      "\n",
      "Below are more details about the failures:\n",
      "--------------------------------------------------------------------------------\n",
      "108 fits failed with the following error:\n",
      "Traceback (most recent call last):\n",
      "  File \"c:\\Users\\wrimp\\Documents\\UDC2\\.conda\\lib\\site-packages\\sklearn\\model_selection\\_validation.py\", line 866, in _fit_and_score\n",
      "    estimator.fit(X_train, y_train, **fit_params)\n",
      "  File \"c:\\Users\\wrimp\\Documents\\UDC2\\.conda\\lib\\site-packages\\sklearn\\base.py\", line 1389, in wrapper\n",
      "    return fit_method(estimator, *args, **kwargs)\n",
      "  File \"c:\\Users\\wrimp\\Documents\\UDC2\\.conda\\lib\\site-packages\\sklearn\\pipeline.py\", line 654, in fit\n",
      "    Xt = self._fit(X, y, routed_params, raw_params=params)\n",
      "  File \"c:\\Users\\wrimp\\Documents\\UDC2\\.conda\\lib\\site-packages\\sklearn\\pipeline.py\", line 588, in _fit\n",
      "    X, fitted_transformer = fit_transform_one_cached(\n",
      "  File \"c:\\Users\\wrimp\\Documents\\UDC2\\.conda\\lib\\site-packages\\joblib\\memory.py\", line 326, in __call__\n",
      "    return self.func(*args, **kwargs)\n",
      "  File \"c:\\Users\\wrimp\\Documents\\UDC2\\.conda\\lib\\site-packages\\sklearn\\pipeline.py\", line 1551, in _fit_transform_one\n",
      "    res = transformer.fit_transform(X, y, **params.get(\"fit_transform\", {}))\n",
      "  File \"c:\\Users\\wrimp\\Documents\\UDC2\\.conda\\lib\\site-packages\\sklearn\\feature_extraction\\text.py\", line 2104, in fit_transform\n",
      "    X = super().fit_transform(raw_documents)\n",
      "  File \"c:\\Users\\wrimp\\Documents\\UDC2\\.conda\\lib\\site-packages\\sklearn\\base.py\", line 1389, in wrapper\n",
      "    return fit_method(estimator, *args, **kwargs)\n",
      "  File \"c:\\Users\\wrimp\\Documents\\UDC2\\.conda\\lib\\site-packages\\sklearn\\feature_extraction\\text.py\", line 1386, in fit_transform\n",
      "    raise ValueError(\"max_df corresponds to < documents than min_df\")\n",
      "ValueError: max_df corresponds to < documents than min_df\n",
      "\n",
      "  warnings.warn(some_fits_failed_message, FitFailedWarning)\n"
     ]
    },
    {
     "name": "stdout",
     "output_type": "stream",
     "text": [
      "Best parameters for category 1: {'knn__n_neighbors': 3, 'vectorizer__max_df': 100, 'vectorizer__min_df': 1, 'vectorizer__ngram_range': (1, 2)}\n",
      "Best score for category 1: 0.5631207445827141\n",
      "Training time for category 1: 194.95 seconds\n",
      "Saving model for category 1 to model_output/knn_value_1.pkl\n"
     ]
    },
    {
     "name": "stderr",
     "output_type": "stream",
     "text": [
      "c:\\Users\\wrimp\\Documents\\UDC2\\.conda\\lib\\site-packages\\sklearn\\model_selection\\_validation.py:528: FitFailedWarning: \n",
      "108 fits failed out of a total of 1152.\n",
      "The score on these train-test partitions for these parameters will be set to 0.\n",
      "If these failures are not expected, you can try to debug them by setting error_score='raise'.\n",
      "\n",
      "Below are more details about the failures:\n",
      "--------------------------------------------------------------------------------\n",
      "108 fits failed with the following error:\n",
      "Traceback (most recent call last):\n",
      "  File \"c:\\Users\\wrimp\\Documents\\UDC2\\.conda\\lib\\site-packages\\sklearn\\model_selection\\_validation.py\", line 866, in _fit_and_score\n",
      "    estimator.fit(X_train, y_train, **fit_params)\n",
      "  File \"c:\\Users\\wrimp\\Documents\\UDC2\\.conda\\lib\\site-packages\\sklearn\\base.py\", line 1389, in wrapper\n",
      "    return fit_method(estimator, *args, **kwargs)\n",
      "  File \"c:\\Users\\wrimp\\Documents\\UDC2\\.conda\\lib\\site-packages\\sklearn\\pipeline.py\", line 654, in fit\n",
      "    Xt = self._fit(X, y, routed_params, raw_params=params)\n",
      "  File \"c:\\Users\\wrimp\\Documents\\UDC2\\.conda\\lib\\site-packages\\sklearn\\pipeline.py\", line 588, in _fit\n",
      "    X, fitted_transformer = fit_transform_one_cached(\n",
      "  File \"c:\\Users\\wrimp\\Documents\\UDC2\\.conda\\lib\\site-packages\\joblib\\memory.py\", line 326, in __call__\n",
      "    return self.func(*args, **kwargs)\n",
      "  File \"c:\\Users\\wrimp\\Documents\\UDC2\\.conda\\lib\\site-packages\\sklearn\\pipeline.py\", line 1551, in _fit_transform_one\n",
      "    res = transformer.fit_transform(X, y, **params.get(\"fit_transform\", {}))\n",
      "  File \"c:\\Users\\wrimp\\Documents\\UDC2\\.conda\\lib\\site-packages\\sklearn\\feature_extraction\\text.py\", line 2104, in fit_transform\n",
      "    X = super().fit_transform(raw_documents)\n",
      "  File \"c:\\Users\\wrimp\\Documents\\UDC2\\.conda\\lib\\site-packages\\sklearn\\base.py\", line 1389, in wrapper\n",
      "    return fit_method(estimator, *args, **kwargs)\n",
      "  File \"c:\\Users\\wrimp\\Documents\\UDC2\\.conda\\lib\\site-packages\\sklearn\\feature_extraction\\text.py\", line 1386, in fit_transform\n",
      "    raise ValueError(\"max_df corresponds to < documents than min_df\")\n",
      "ValueError: max_df corresponds to < documents than min_df\n",
      "\n",
      "  warnings.warn(some_fits_failed_message, FitFailedWarning)\n"
     ]
    },
    {
     "name": "stdout",
     "output_type": "stream",
     "text": [
      "Best parameters for category 2: {'knn__n_neighbors': 3, 'vectorizer__max_df': 100, 'vectorizer__min_df': 1, 'vectorizer__ngram_range': (1, 2)}\n",
      "Best score for category 2: 0.5002611639806529\n",
      "Training time for category 2: 226.54 seconds\n",
      "Saving model for category 2 to model_output/knn_value_2.pkl\n"
     ]
    },
    {
     "name": "stderr",
     "output_type": "stream",
     "text": [
      "c:\\Users\\wrimp\\Documents\\UDC2\\.conda\\lib\\site-packages\\sklearn\\model_selection\\_validation.py:528: FitFailedWarning: \n",
      "108 fits failed out of a total of 1152.\n",
      "The score on these train-test partitions for these parameters will be set to 0.\n",
      "If these failures are not expected, you can try to debug them by setting error_score='raise'.\n",
      "\n",
      "Below are more details about the failures:\n",
      "--------------------------------------------------------------------------------\n",
      "108 fits failed with the following error:\n",
      "Traceback (most recent call last):\n",
      "  File \"c:\\Users\\wrimp\\Documents\\UDC2\\.conda\\lib\\site-packages\\sklearn\\model_selection\\_validation.py\", line 866, in _fit_and_score\n",
      "    estimator.fit(X_train, y_train, **fit_params)\n",
      "  File \"c:\\Users\\wrimp\\Documents\\UDC2\\.conda\\lib\\site-packages\\sklearn\\base.py\", line 1389, in wrapper\n",
      "    return fit_method(estimator, *args, **kwargs)\n",
      "  File \"c:\\Users\\wrimp\\Documents\\UDC2\\.conda\\lib\\site-packages\\sklearn\\pipeline.py\", line 654, in fit\n",
      "    Xt = self._fit(X, y, routed_params, raw_params=params)\n",
      "  File \"c:\\Users\\wrimp\\Documents\\UDC2\\.conda\\lib\\site-packages\\sklearn\\pipeline.py\", line 588, in _fit\n",
      "    X, fitted_transformer = fit_transform_one_cached(\n",
      "  File \"c:\\Users\\wrimp\\Documents\\UDC2\\.conda\\lib\\site-packages\\joblib\\memory.py\", line 326, in __call__\n",
      "    return self.func(*args, **kwargs)\n",
      "  File \"c:\\Users\\wrimp\\Documents\\UDC2\\.conda\\lib\\site-packages\\sklearn\\pipeline.py\", line 1551, in _fit_transform_one\n",
      "    res = transformer.fit_transform(X, y, **params.get(\"fit_transform\", {}))\n",
      "  File \"c:\\Users\\wrimp\\Documents\\UDC2\\.conda\\lib\\site-packages\\sklearn\\feature_extraction\\text.py\", line 2104, in fit_transform\n",
      "    X = super().fit_transform(raw_documents)\n",
      "  File \"c:\\Users\\wrimp\\Documents\\UDC2\\.conda\\lib\\site-packages\\sklearn\\base.py\", line 1389, in wrapper\n",
      "    return fit_method(estimator, *args, **kwargs)\n",
      "  File \"c:\\Users\\wrimp\\Documents\\UDC2\\.conda\\lib\\site-packages\\sklearn\\feature_extraction\\text.py\", line 1386, in fit_transform\n",
      "    raise ValueError(\"max_df corresponds to < documents than min_df\")\n",
      "ValueError: max_df corresponds to < documents than min_df\n",
      "\n",
      "  warnings.warn(some_fits_failed_message, FitFailedWarning)\n"
     ]
    },
    {
     "name": "stdout",
     "output_type": "stream",
     "text": [
      "Best parameters for category 3: {'knn__n_neighbors': 3, 'vectorizer__max_df': 100, 'vectorizer__min_df': 1, 'vectorizer__ngram_range': (1, 2)}\n",
      "Best score for category 3: 0.5156959586359365\n",
      "Training time for category 3: 229.18 seconds\n",
      "Saving model for category 3 to model_output/knn_value_3.pkl\n"
     ]
    },
    {
     "name": "stderr",
     "output_type": "stream",
     "text": [
      "c:\\Users\\wrimp\\Documents\\UDC2\\.conda\\lib\\site-packages\\sklearn\\model_selection\\_validation.py:528: FitFailedWarning: \n",
      "108 fits failed out of a total of 1152.\n",
      "The score on these train-test partitions for these parameters will be set to 0.\n",
      "If these failures are not expected, you can try to debug them by setting error_score='raise'.\n",
      "\n",
      "Below are more details about the failures:\n",
      "--------------------------------------------------------------------------------\n",
      "108 fits failed with the following error:\n",
      "Traceback (most recent call last):\n",
      "  File \"c:\\Users\\wrimp\\Documents\\UDC2\\.conda\\lib\\site-packages\\sklearn\\model_selection\\_validation.py\", line 866, in _fit_and_score\n",
      "    estimator.fit(X_train, y_train, **fit_params)\n",
      "  File \"c:\\Users\\wrimp\\Documents\\UDC2\\.conda\\lib\\site-packages\\sklearn\\base.py\", line 1389, in wrapper\n",
      "    return fit_method(estimator, *args, **kwargs)\n",
      "  File \"c:\\Users\\wrimp\\Documents\\UDC2\\.conda\\lib\\site-packages\\sklearn\\pipeline.py\", line 654, in fit\n",
      "    Xt = self._fit(X, y, routed_params, raw_params=params)\n",
      "  File \"c:\\Users\\wrimp\\Documents\\UDC2\\.conda\\lib\\site-packages\\sklearn\\pipeline.py\", line 588, in _fit\n",
      "    X, fitted_transformer = fit_transform_one_cached(\n",
      "  File \"c:\\Users\\wrimp\\Documents\\UDC2\\.conda\\lib\\site-packages\\joblib\\memory.py\", line 326, in __call__\n",
      "    return self.func(*args, **kwargs)\n",
      "  File \"c:\\Users\\wrimp\\Documents\\UDC2\\.conda\\lib\\site-packages\\sklearn\\pipeline.py\", line 1551, in _fit_transform_one\n",
      "    res = transformer.fit_transform(X, y, **params.get(\"fit_transform\", {}))\n",
      "  File \"c:\\Users\\wrimp\\Documents\\UDC2\\.conda\\lib\\site-packages\\sklearn\\feature_extraction\\text.py\", line 2104, in fit_transform\n",
      "    X = super().fit_transform(raw_documents)\n",
      "  File \"c:\\Users\\wrimp\\Documents\\UDC2\\.conda\\lib\\site-packages\\sklearn\\base.py\", line 1389, in wrapper\n",
      "    return fit_method(estimator, *args, **kwargs)\n",
      "  File \"c:\\Users\\wrimp\\Documents\\UDC2\\.conda\\lib\\site-packages\\sklearn\\feature_extraction\\text.py\", line 1386, in fit_transform\n",
      "    raise ValueError(\"max_df corresponds to < documents than min_df\")\n",
      "ValueError: max_df corresponds to < documents than min_df\n",
      "\n",
      "  warnings.warn(some_fits_failed_message, FitFailedWarning)\n"
     ]
    },
    {
     "name": "stdout",
     "output_type": "stream",
     "text": [
      "Best parameters for category 4: {'knn__n_neighbors': 3, 'vectorizer__max_df': 20, 'vectorizer__min_df': 1, 'vectorizer__ngram_range': (1, 2)}\n",
      "Best score for category 4: 0.45701134724061016\n",
      "Training time for category 4: 191.66 seconds\n",
      "Saving model for category 4 to model_output/knn_value_4.pkl\n"
     ]
    },
    {
     "name": "stderr",
     "output_type": "stream",
     "text": [
      "c:\\Users\\wrimp\\Documents\\UDC2\\.conda\\lib\\site-packages\\sklearn\\model_selection\\_validation.py:528: FitFailedWarning: \n",
      "108 fits failed out of a total of 1152.\n",
      "The score on these train-test partitions for these parameters will be set to 0.\n",
      "If these failures are not expected, you can try to debug them by setting error_score='raise'.\n",
      "\n",
      "Below are more details about the failures:\n",
      "--------------------------------------------------------------------------------\n",
      "108 fits failed with the following error:\n",
      "Traceback (most recent call last):\n",
      "  File \"c:\\Users\\wrimp\\Documents\\UDC2\\.conda\\lib\\site-packages\\sklearn\\model_selection\\_validation.py\", line 866, in _fit_and_score\n",
      "    estimator.fit(X_train, y_train, **fit_params)\n",
      "  File \"c:\\Users\\wrimp\\Documents\\UDC2\\.conda\\lib\\site-packages\\sklearn\\base.py\", line 1389, in wrapper\n",
      "    return fit_method(estimator, *args, **kwargs)\n",
      "  File \"c:\\Users\\wrimp\\Documents\\UDC2\\.conda\\lib\\site-packages\\sklearn\\pipeline.py\", line 654, in fit\n",
      "    Xt = self._fit(X, y, routed_params, raw_params=params)\n",
      "  File \"c:\\Users\\wrimp\\Documents\\UDC2\\.conda\\lib\\site-packages\\sklearn\\pipeline.py\", line 588, in _fit\n",
      "    X, fitted_transformer = fit_transform_one_cached(\n",
      "  File \"c:\\Users\\wrimp\\Documents\\UDC2\\.conda\\lib\\site-packages\\joblib\\memory.py\", line 326, in __call__\n",
      "    return self.func(*args, **kwargs)\n",
      "  File \"c:\\Users\\wrimp\\Documents\\UDC2\\.conda\\lib\\site-packages\\sklearn\\pipeline.py\", line 1551, in _fit_transform_one\n",
      "    res = transformer.fit_transform(X, y, **params.get(\"fit_transform\", {}))\n",
      "  File \"c:\\Users\\wrimp\\Documents\\UDC2\\.conda\\lib\\site-packages\\sklearn\\feature_extraction\\text.py\", line 2104, in fit_transform\n",
      "    X = super().fit_transform(raw_documents)\n",
      "  File \"c:\\Users\\wrimp\\Documents\\UDC2\\.conda\\lib\\site-packages\\sklearn\\base.py\", line 1389, in wrapper\n",
      "    return fit_method(estimator, *args, **kwargs)\n",
      "  File \"c:\\Users\\wrimp\\Documents\\UDC2\\.conda\\lib\\site-packages\\sklearn\\feature_extraction\\text.py\", line 1386, in fit_transform\n",
      "    raise ValueError(\"max_df corresponds to < documents than min_df\")\n",
      "ValueError: max_df corresponds to < documents than min_df\n",
      "\n",
      "  warnings.warn(some_fits_failed_message, FitFailedWarning)\n"
     ]
    },
    {
     "name": "stdout",
     "output_type": "stream",
     "text": [
      "Best parameters for category 5: {'knn__n_neighbors': 3, 'vectorizer__max_df': 20, 'vectorizer__min_df': 1, 'vectorizer__ngram_range': (1, 2)}\n",
      "Best score for category 5: 0.4469712430926787\n",
      "Training time for category 5: 165.54 seconds\n",
      "Saving model for category 5 to model_output/knn_value_5.pkl\n"
     ]
    },
    {
     "name": "stderr",
     "output_type": "stream",
     "text": [
      "c:\\Users\\wrimp\\Documents\\UDC2\\.conda\\lib\\site-packages\\sklearn\\model_selection\\_validation.py:528: FitFailedWarning: \n",
      "108 fits failed out of a total of 1152.\n",
      "The score on these train-test partitions for these parameters will be set to 0.\n",
      "If these failures are not expected, you can try to debug them by setting error_score='raise'.\n",
      "\n",
      "Below are more details about the failures:\n",
      "--------------------------------------------------------------------------------\n",
      "108 fits failed with the following error:\n",
      "Traceback (most recent call last):\n",
      "  File \"c:\\Users\\wrimp\\Documents\\UDC2\\.conda\\lib\\site-packages\\sklearn\\model_selection\\_validation.py\", line 866, in _fit_and_score\n",
      "    estimator.fit(X_train, y_train, **fit_params)\n",
      "  File \"c:\\Users\\wrimp\\Documents\\UDC2\\.conda\\lib\\site-packages\\sklearn\\base.py\", line 1389, in wrapper\n",
      "    return fit_method(estimator, *args, **kwargs)\n",
      "  File \"c:\\Users\\wrimp\\Documents\\UDC2\\.conda\\lib\\site-packages\\sklearn\\pipeline.py\", line 654, in fit\n",
      "    Xt = self._fit(X, y, routed_params, raw_params=params)\n",
      "  File \"c:\\Users\\wrimp\\Documents\\UDC2\\.conda\\lib\\site-packages\\sklearn\\pipeline.py\", line 588, in _fit\n",
      "    X, fitted_transformer = fit_transform_one_cached(\n",
      "  File \"c:\\Users\\wrimp\\Documents\\UDC2\\.conda\\lib\\site-packages\\joblib\\memory.py\", line 326, in __call__\n",
      "    return self.func(*args, **kwargs)\n",
      "  File \"c:\\Users\\wrimp\\Documents\\UDC2\\.conda\\lib\\site-packages\\sklearn\\pipeline.py\", line 1551, in _fit_transform_one\n",
      "    res = transformer.fit_transform(X, y, **params.get(\"fit_transform\", {}))\n",
      "  File \"c:\\Users\\wrimp\\Documents\\UDC2\\.conda\\lib\\site-packages\\sklearn\\feature_extraction\\text.py\", line 2104, in fit_transform\n",
      "    X = super().fit_transform(raw_documents)\n",
      "  File \"c:\\Users\\wrimp\\Documents\\UDC2\\.conda\\lib\\site-packages\\sklearn\\base.py\", line 1389, in wrapper\n",
      "    return fit_method(estimator, *args, **kwargs)\n",
      "  File \"c:\\Users\\wrimp\\Documents\\UDC2\\.conda\\lib\\site-packages\\sklearn\\feature_extraction\\text.py\", line 1386, in fit_transform\n",
      "    raise ValueError(\"max_df corresponds to < documents than min_df\")\n",
      "ValueError: max_df corresponds to < documents than min_df\n",
      "\n",
      "  warnings.warn(some_fits_failed_message, FitFailedWarning)\n"
     ]
    },
    {
     "name": "stdout",
     "output_type": "stream",
     "text": [
      "Best parameters for category 6: {'knn__n_neighbors': 3, 'vectorizer__max_df': 0.9, 'vectorizer__min_df': 1, 'vectorizer__ngram_range': (1, 2)}\n",
      "Best score for category 6: 0.4616842219590178\n",
      "Training time for category 6: 261.50 seconds\n",
      "Saving model for category 6 to model_output/knn_value_6.pkl\n"
     ]
    },
    {
     "name": "stderr",
     "output_type": "stream",
     "text": [
      "c:\\Users\\wrimp\\Documents\\UDC2\\.conda\\lib\\site-packages\\sklearn\\model_selection\\_validation.py:528: FitFailedWarning: \n",
      "108 fits failed out of a total of 1152.\n",
      "The score on these train-test partitions for these parameters will be set to 0.\n",
      "If these failures are not expected, you can try to debug them by setting error_score='raise'.\n",
      "\n",
      "Below are more details about the failures:\n",
      "--------------------------------------------------------------------------------\n",
      "108 fits failed with the following error:\n",
      "Traceback (most recent call last):\n",
      "  File \"c:\\Users\\wrimp\\Documents\\UDC2\\.conda\\lib\\site-packages\\sklearn\\model_selection\\_validation.py\", line 866, in _fit_and_score\n",
      "    estimator.fit(X_train, y_train, **fit_params)\n",
      "  File \"c:\\Users\\wrimp\\Documents\\UDC2\\.conda\\lib\\site-packages\\sklearn\\base.py\", line 1389, in wrapper\n",
      "    return fit_method(estimator, *args, **kwargs)\n",
      "  File \"c:\\Users\\wrimp\\Documents\\UDC2\\.conda\\lib\\site-packages\\sklearn\\pipeline.py\", line 654, in fit\n",
      "    Xt = self._fit(X, y, routed_params, raw_params=params)\n",
      "  File \"c:\\Users\\wrimp\\Documents\\UDC2\\.conda\\lib\\site-packages\\sklearn\\pipeline.py\", line 588, in _fit\n",
      "    X, fitted_transformer = fit_transform_one_cached(\n",
      "  File \"c:\\Users\\wrimp\\Documents\\UDC2\\.conda\\lib\\site-packages\\joblib\\memory.py\", line 326, in __call__\n",
      "    return self.func(*args, **kwargs)\n",
      "  File \"c:\\Users\\wrimp\\Documents\\UDC2\\.conda\\lib\\site-packages\\sklearn\\pipeline.py\", line 1551, in _fit_transform_one\n",
      "    res = transformer.fit_transform(X, y, **params.get(\"fit_transform\", {}))\n",
      "  File \"c:\\Users\\wrimp\\Documents\\UDC2\\.conda\\lib\\site-packages\\sklearn\\feature_extraction\\text.py\", line 2104, in fit_transform\n",
      "    X = super().fit_transform(raw_documents)\n",
      "  File \"c:\\Users\\wrimp\\Documents\\UDC2\\.conda\\lib\\site-packages\\sklearn\\base.py\", line 1389, in wrapper\n",
      "    return fit_method(estimator, *args, **kwargs)\n",
      "  File \"c:\\Users\\wrimp\\Documents\\UDC2\\.conda\\lib\\site-packages\\sklearn\\feature_extraction\\text.py\", line 1386, in fit_transform\n",
      "    raise ValueError(\"max_df corresponds to < documents than min_df\")\n",
      "ValueError: max_df corresponds to < documents than min_df\n",
      "\n",
      "  warnings.warn(some_fits_failed_message, FitFailedWarning)\n"
     ]
    },
    {
     "name": "stdout",
     "output_type": "stream",
     "text": [
      "Best parameters for category 7: {'knn__n_neighbors': 3, 'vectorizer__max_df': 20, 'vectorizer__min_df': 1, 'vectorizer__ngram_range': (1, 2)}\n",
      "Best score for category 7: 0.4783441754992766\n",
      "Training time for category 7: 177.86 seconds\n",
      "Saving model for category 7 to model_output/knn_value_7.pkl\n"
     ]
    },
    {
     "name": "stderr",
     "output_type": "stream",
     "text": [
      "c:\\Users\\wrimp\\Documents\\UDC2\\.conda\\lib\\site-packages\\sklearn\\model_selection\\_validation.py:528: FitFailedWarning: \n",
      "108 fits failed out of a total of 1152.\n",
      "The score on these train-test partitions for these parameters will be set to 0.\n",
      "If these failures are not expected, you can try to debug them by setting error_score='raise'.\n",
      "\n",
      "Below are more details about the failures:\n",
      "--------------------------------------------------------------------------------\n",
      "108 fits failed with the following error:\n",
      "Traceback (most recent call last):\n",
      "  File \"c:\\Users\\wrimp\\Documents\\UDC2\\.conda\\lib\\site-packages\\sklearn\\model_selection\\_validation.py\", line 866, in _fit_and_score\n",
      "    estimator.fit(X_train, y_train, **fit_params)\n",
      "  File \"c:\\Users\\wrimp\\Documents\\UDC2\\.conda\\lib\\site-packages\\sklearn\\base.py\", line 1389, in wrapper\n",
      "    return fit_method(estimator, *args, **kwargs)\n",
      "  File \"c:\\Users\\wrimp\\Documents\\UDC2\\.conda\\lib\\site-packages\\sklearn\\pipeline.py\", line 654, in fit\n",
      "    Xt = self._fit(X, y, routed_params, raw_params=params)\n",
      "  File \"c:\\Users\\wrimp\\Documents\\UDC2\\.conda\\lib\\site-packages\\sklearn\\pipeline.py\", line 588, in _fit\n",
      "    X, fitted_transformer = fit_transform_one_cached(\n",
      "  File \"c:\\Users\\wrimp\\Documents\\UDC2\\.conda\\lib\\site-packages\\joblib\\memory.py\", line 326, in __call__\n",
      "    return self.func(*args, **kwargs)\n",
      "  File \"c:\\Users\\wrimp\\Documents\\UDC2\\.conda\\lib\\site-packages\\sklearn\\pipeline.py\", line 1551, in _fit_transform_one\n",
      "    res = transformer.fit_transform(X, y, **params.get(\"fit_transform\", {}))\n",
      "  File \"c:\\Users\\wrimp\\Documents\\UDC2\\.conda\\lib\\site-packages\\sklearn\\feature_extraction\\text.py\", line 2104, in fit_transform\n",
      "    X = super().fit_transform(raw_documents)\n",
      "  File \"c:\\Users\\wrimp\\Documents\\UDC2\\.conda\\lib\\site-packages\\sklearn\\base.py\", line 1389, in wrapper\n",
      "    return fit_method(estimator, *args, **kwargs)\n",
      "  File \"c:\\Users\\wrimp\\Documents\\UDC2\\.conda\\lib\\site-packages\\sklearn\\feature_extraction\\text.py\", line 1386, in fit_transform\n",
      "    raise ValueError(\"max_df corresponds to < documents than min_df\")\n",
      "ValueError: max_df corresponds to < documents than min_df\n",
      "\n",
      "  warnings.warn(some_fits_failed_message, FitFailedWarning)\n"
     ]
    },
    {
     "name": "stdout",
     "output_type": "stream",
     "text": [
      "Best parameters for category 8: {'knn__n_neighbors': 3, 'vectorizer__max_df': 20, 'vectorizer__min_df': 1, 'vectorizer__ngram_range': (1, 3)}\n",
      "Best score for category 8: 0.4008100000846649\n",
      "Training time for category 8: 225.18 seconds\n",
      "Saving model for category 8 to model_output/knn_value_8.pkl\n"
     ]
    },
    {
     "name": "stderr",
     "output_type": "stream",
     "text": [
      "c:\\Users\\wrimp\\Documents\\UDC2\\.conda\\lib\\site-packages\\sklearn\\model_selection\\_validation.py:528: FitFailedWarning: \n",
      "108 fits failed out of a total of 1152.\n",
      "The score on these train-test partitions for these parameters will be set to 0.\n",
      "If these failures are not expected, you can try to debug them by setting error_score='raise'.\n",
      "\n",
      "Below are more details about the failures:\n",
      "--------------------------------------------------------------------------------\n",
      "108 fits failed with the following error:\n",
      "Traceback (most recent call last):\n",
      "  File \"c:\\Users\\wrimp\\Documents\\UDC2\\.conda\\lib\\site-packages\\sklearn\\model_selection\\_validation.py\", line 866, in _fit_and_score\n",
      "    estimator.fit(X_train, y_train, **fit_params)\n",
      "  File \"c:\\Users\\wrimp\\Documents\\UDC2\\.conda\\lib\\site-packages\\sklearn\\base.py\", line 1389, in wrapper\n",
      "    return fit_method(estimator, *args, **kwargs)\n",
      "  File \"c:\\Users\\wrimp\\Documents\\UDC2\\.conda\\lib\\site-packages\\sklearn\\pipeline.py\", line 654, in fit\n",
      "    Xt = self._fit(X, y, routed_params, raw_params=params)\n",
      "  File \"c:\\Users\\wrimp\\Documents\\UDC2\\.conda\\lib\\site-packages\\sklearn\\pipeline.py\", line 588, in _fit\n",
      "    X, fitted_transformer = fit_transform_one_cached(\n",
      "  File \"c:\\Users\\wrimp\\Documents\\UDC2\\.conda\\lib\\site-packages\\joblib\\memory.py\", line 326, in __call__\n",
      "    return self.func(*args, **kwargs)\n",
      "  File \"c:\\Users\\wrimp\\Documents\\UDC2\\.conda\\lib\\site-packages\\sklearn\\pipeline.py\", line 1551, in _fit_transform_one\n",
      "    res = transformer.fit_transform(X, y, **params.get(\"fit_transform\", {}))\n",
      "  File \"c:\\Users\\wrimp\\Documents\\UDC2\\.conda\\lib\\site-packages\\sklearn\\feature_extraction\\text.py\", line 2104, in fit_transform\n",
      "    X = super().fit_transform(raw_documents)\n",
      "  File \"c:\\Users\\wrimp\\Documents\\UDC2\\.conda\\lib\\site-packages\\sklearn\\base.py\", line 1389, in wrapper\n",
      "    return fit_method(estimator, *args, **kwargs)\n",
      "  File \"c:\\Users\\wrimp\\Documents\\UDC2\\.conda\\lib\\site-packages\\sklearn\\feature_extraction\\text.py\", line 1386, in fit_transform\n",
      "    raise ValueError(\"max_df corresponds to < documents than min_df\")\n",
      "ValueError: max_df corresponds to < documents than min_df\n",
      "\n",
      "  warnings.warn(some_fits_failed_message, FitFailedWarning)\n"
     ]
    },
    {
     "name": "stdout",
     "output_type": "stream",
     "text": [
      "Best parameters for category 9: {'knn__n_neighbors': 5, 'vectorizer__max_df': 0.7, 'vectorizer__min_df': 1, 'vectorizer__ngram_range': (1, 2)}\n",
      "Best score for category 9: 0.2654586847045124\n",
      "Training time for category 9: 142.95 seconds\n",
      "Saving model for category 9 to model_output/knn_value_9.pkl\n",
      "Total training time for all categories: 2071.40 seconds\n"
     ]
    }
   ],
   "source": [
    "total_start_time = time()\n",
    "for it_num, y_train in enumerate(y_train_sep_cat_list):\n",
    "    le = LabelEncoder() \n",
    "    y_train_label_encoded = le.fit_transform(y_train)\n",
    "    model_output_name = f\"knn_value_{it_num}\"\n",
    "    labelencoder_output_name = f\"labelencoder_value_{it_num}\"\n",
    "    \n",
    "    output_dir = 'model_output'\n",
    "    model_output_path = f\"{output_dir}/{model_output_name}.pkl\"\n",
    "    knn_sep_cat = KNeighborsClassifier()\n",
    "    pipe_sep_cat = Pipeline([\n",
    "        ('vectorizer', vectorizer),\n",
    "        ('knn', knn_sep_cat)\n",
    "    ])\n",
    "    #sep_cat_param_grid = {'vectorizer__ngram_range': [(1,3), (1,4)]} #param_grid_vectorizer.copy()\n",
    "    sep_cat_param_grid = param_grid_vectorizer.copy()\n",
    "    sep_cat_param_grid.update({'knn__n_neighbors': range(3,7)}) # As we have less categories, maybe we can use more neighbors\n",
    "\n",
    "    best_sep_cat_cv = HalvingGridSearchCV(\n",
    "        pipe_sep_cat,\n",
    "        param_grid=sep_cat_param_grid,\n",
    "        scoring='balanced_accuracy',\n",
    "        cv=folder,\n",
    "        n_jobs=2,\n",
    "        factor=2,\n",
    "        verbose=0,\n",
    "        error_score=0 \n",
    "    )\n",
    "    start_time = time()\n",
    "    best_sep_cat_cv.fit(x_train, y_train_label_encoded)\n",
    "    end_time = time()\n",
    "    print(f\"Best parameters for category {it_num}: {best_sep_cat_cv.best_params_}\")\n",
    "    print(f\"Best score for category {it_num}: {best_sep_cat_cv.best_score_}\")\n",
    "    print(f\"Training time for category {it_num}: {end_time - start_time:.2f} seconds\")\n",
    "    print(f\"Saving model for category {it_num} to {model_output_path}\")\n",
    "    with open(model_output_path, 'wb') as f:\n",
    "        pickle.dump(best_sep_cat_cv, f)\n",
    "    \n",
    "    with open(f\"{output_dir}/{labelencoder_output_name}.pkl\", 'wb') as f:\n",
    "        pickle.dump(le, f)\n",
    "        \n",
    "\n",
    "final_end_time = time()\n",
    "print(f\"Total training time for all categories: {final_end_time - total_start_time:.2f} seconds\")"
   ]
  },
  {
   "cell_type": "code",
   "execution_count": 51,
   "id": "cc1b4f20",
   "metadata": {},
   "outputs": [
    {
     "data": {
      "text/plain": [
       "array(['5'], dtype=object)"
      ]
     },
     "execution_count": 51,
     "metadata": {},
     "output_type": "execute_result"
    }
   ],
   "source": [
    "le.inverse_transform(best_sep_cat_cv.predict(['avian avian avian bird ave']))"
   ]
  },
  {
   "cell_type": "code",
   "execution_count": null,
   "id": "d7cb9f9a",
   "metadata": {},
   "outputs": [
    {
     "data": {
      "text/plain": [
       "0\n",
       "6    13902\n",
       "1     8028\n",
       "5     7934\n",
       "3     3624\n",
       "7     1472\n",
       "0     1031\n",
       "2      651\n",
       "8      454\n",
       "9      271\n",
       "4        6\n",
       "Name: count, dtype: int64"
      ]
     },
     "execution_count": 118,
     "metadata": {},
     "output_type": "execute_result"
    }
   ],
   "source": [
    "cat_values[0].value_counts()"
   ]
  },
  {
   "cell_type": "code",
   "execution_count": null,
   "id": "20ed66f1",
   "metadata": {},
   "outputs": [],
   "source": [
    "np.save('test_idx.npy', test_idx)"
   ]
  },
  {
   "cell_type": "code",
   "execution_count": null,
   "id": "bcd3a170",
   "metadata": {},
   "outputs": [],
   "source": []
  },
  {
   "cell_type": "code",
   "execution_count": null,
   "id": "b8962548",
   "metadata": {},
   "outputs": [
    {
     "data": {
      "image/png": "[encoded data removed]",
      "text/plain": [
       "<Figure size 640x480 with 1 Axes>"
      ]
     },
     "metadata": {},
     "output_type": "display_data"
    }
   ],
   "source": [
    "# Check how many NaNs \n",
    "column_nan_dict = {}\n",
    "for column in cat_values_na_visualization.columns:\n",
    "    column_nan_dict[column] = cat_values_na_visualization[column].isna().sum()\n",
    "\n",
    "plt.plot(column_nan_dict.keys(), column_nan_dict.values())\n",
    "plt.grid()\n",
    "plt.show()"
   ]
  },
  {
   "cell_type": "code",
   "execution_count": null,
   "id": "e8a87ad2",
   "metadata": {},
   "outputs": [],
   "source": []
  }
 ],
 "metadata": {
  "kernelspec": {
   "display_name": ".conda",
   "language": "python",
   "name": "python3"
  },
  "language_info": {
   "codemirror_mode": {
    "name": "ipython",
    "version": 3
   },
   "file_extension": ".py",
   "mimetype": "text/x-python",
   "name": "python",
   "nbconvert_exporter": "python",
   "pygments_lexer": "ipython3",
   "version": "3.9.23"
  }
 },
 "nbformat": 4,
 "nbformat_minor": 5
}
